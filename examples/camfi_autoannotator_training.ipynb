{
  "nbformat": 4,
  "nbformat_minor": 0,
  "metadata": {
    "accelerator": "GPU",
    "colab": {
      "name": "auto_camfi_training.ipynb",
      "provenance": [],
      "collapsed_sections": [],
      "authorship_tag": "ABX9TyNzoWay7QzBFLODBGpdXEeb",
      "include_colab_link": true
    },
    "kernelspec": {
      "display_name": "Python 3",
      "language": "python",
      "name": "python3"
    },
    "language_info": {
      "codemirror_mode": {
        "name": "ipython",
        "version": 3
      },
      "file_extension": ".py",
      "mimetype": "text/x-python",
      "name": "python",
      "nbconvert_exporter": "python",
      "pygments_lexer": "ipython3",
      "version": "3.9.4"
    }
  },
  "cells": [
    {
      "cell_type": "markdown",
      "metadata": {
        "id": "view-in-github",
        "colab_type": "text"
      },
      "source": [
        "<a href=\"https://colab.research.google.com/github/J-Wall/camfi/blob/main/examples/camfi_autoannotator_training.ipynb\" target=\"_parent\"><img src=\"https://colab.research.google.com/assets/colab-badge.svg\" alt=\"Open In Colab\"/></a>"
      ]
    },
    {
      "cell_type": "markdown",
      "metadata": {
        "id": "VMLqKuTycZG7"
      },
      "source": [
        "Training camfi automatic annotation Mask R-CNN model\n",
        "===================================================="
      ]
    },
    {
      "cell_type": "markdown",
      "metadata": {
        "id": "7NunTeSudTVz"
      },
      "source": [
        "First, we want to load in the human-generated data. If using your own data, you may want to use Colab's Google Drive integration to get the data onto the Colab server. Here, we just download our data from Github."
      ]
    },
    {
      "cell_type": "code",
      "metadata": {
        "colab": {
          "base_uri": "https://localhost:8080/"
        },
        "id": "jKr3TqracYeL",
        "outputId": "f0d9f220-8703-4b0e-b02d-944c02cd15ac"
      },
      "source": [
        "%%shell\n",
        "wget -qnc https://github.com/J-Wall/camfi/releases/download/0.3.2/cabramurra_annotated_only.zip\n",
        "unzip -qn cabramurra_annotated_only.zip\n",
        "wget -qnc https://raw.githubusercontent.com/J-Wall/camfi/main/examples/data/cabramurra_test_set.txt\n",
        "ls -lh"
      ],
      "execution_count": 1,
      "outputs": [
        {
          "output_type": "stream",
          "text": [
            "total 1.1G\n",
            "drwxr-xr-x 12 root root 4.0K May 19 02:38 2019-11_cabramurra\n",
            "-rwxrwxrwx  1 root root 5.2M Apr 27 12:54 cabramurra_annotated_only.json\n",
            "-rw-r--r--  1 root root 1.1G May 19 01:11 cabramurra_annotated_only.zip\n",
            "-rw-r--r--  1 root root 1.9K May 19 02:38 cabramurra_test_set.txt\n"
          ],
          "name": "stdout"
        },
        {
          "output_type": "execute_result",
          "data": {
            "text/plain": [
              ""
            ]
          },
          "metadata": {
            "tags": []
          },
          "execution_count": 1
        }
      ]
    },
    {
      "cell_type": "markdown",
      "metadata": {
        "id": "M875UYyNP_dQ"
      },
      "source": [
        "Then, we need to make sure camfi is installed"
      ]
    },
    {
      "cell_type": "code",
      "metadata": {
        "id": "a8fHvdT2eOlj"
      },
      "source": [
        "! pip -q install camfi"
      ],
      "execution_count": 2,
      "outputs": []
    },
    {
      "cell_type": "markdown",
      "metadata": {
        "id": "h17ZnZXWfXfO"
      },
      "source": [
        "Next we import camfi and check that we have access to a GPU"
      ]
    },
    {
      "cell_type": "code",
      "metadata": {
        "id": "4o4hWSfBjHYS",
        "colab": {
          "base_uri": "https://localhost:8080/"
        },
        "outputId": "0d50515c-e525-4f2a-c79b-dbb97d5d30c9"
      },
      "source": [
        "import camfi\n",
        "import torch\n",
        "\n",
        "print(torch.cuda.is_available())\n",
        "print(torch.cuda.get_device_name())\n",
        "\n",
        "device = \"cuda\" if torch.cuda.is_available() else \"cpu\""
      ],
      "execution_count": 3,
      "outputs": [
        {
          "output_type": "stream",
          "text": [
            "True\n",
            "Tesla T4\n"
          ],
          "name": "stdout"
        }
      ]
    },
    {
      "cell_type": "markdown",
      "metadata": {
        "id": "aw5wYsbIffEM"
      },
      "source": [
        "Finally, we train the model"
      ]
    },
    {
      "cell_type": "code",
      "metadata": {
        "colab": {
          "base_uri": "https://localhost:8080/"
        },
        "id": "jAF-I3ncX1Dy",
        "outputId": "6a9e52c6-81c4-43df-be87-6fe208d020a6"
      },
      "source": [
        "camfi.train_model(\n",
        "    \"cabramurra_annotated_only.json\",\n",
        "    crop=(0, 0, 4608, 3312),\n",
        "    point_r=10,\n",
        "    mask_dilate=5,\n",
        "    max_annotations=50,  # To avoid overloading the GPU's memory\n",
        "    exclude=\"cabramurra_test_set.txt\",\n",
        "    device=device,\n",
        "    num_classes=2,\n",
        "    batch_size=4,\n",
        "    num_workers=2,  # Practical limit on Colab\n",
        "    num_epochs=5,\n",
        "    outdir=\".\",  # It is suggested to change this to save model to Google Drive\n",
        "    save_intermediate=True,\n",
        ")"
      ],
      "execution_count": 4,
      "outputs": [
        {
          "output_type": "stream",
          "text": [
            "Epoch: [0]  [  0/220]  eta: 0:29:13  lr: 0.000028  loss: 6.1644 (6.1644)  loss_classifier: 0.5314 (0.5314)  loss_box_reg: 0.0109 (0.0109)  loss_mask: 5.2009 (5.2009)  loss_objectness: 0.3931 (0.3931)  loss_rpn_box_reg: 0.0281 (0.0281)  time: 7.9725  data: 6.5723  max mem: 4871\n",
            "Epoch: [0]  [ 10/220]  eta: 0:20:09  lr: 0.000256  loss: 5.4888 (4.9620)  loss_classifier: 0.4367 (0.4172)  loss_box_reg: 0.0447 (0.0423)  loss_mask: 3.0596 (3.2796)  loss_objectness: 0.9821 (0.9860)  loss_rpn_box_reg: 0.2565 (0.2369)  time: 5.7590  data: 4.3764  max mem: 5283\n",
            "Epoch: [0]  [ 20/220]  eta: 0:18:19  lr: 0.000484  loss: 1.3664 (3.0890)  loss_classifier: 0.2343 (0.2780)  loss_box_reg: 0.0493 (0.0485)  loss_mask: 0.4960 (1.9336)  loss_objectness: 0.1902 (0.5966)  loss_rpn_box_reg: 0.1841 (0.2323)  time: 5.3741  data: 3.9765  max mem: 5283\n",
            "Epoch: [0]  [ 30/220]  eta: 0:18:00  lr: 0.000712  loss: 0.7644 (2.3132)  loss_classifier: 0.0711 (0.2093)  loss_box_reg: 0.0394 (0.0449)  loss_mask: 0.3851 (1.4144)  loss_objectness: 0.1266 (0.4404)  loss_rpn_box_reg: 0.0976 (0.2043)  time: 5.6468  data: 4.2178  max mem: 5283\n",
            "Epoch: [0]  [ 40/220]  eta: 0:16:33  lr: 0.000940  loss: 0.4530 (1.8688)  loss_classifier: 0.0671 (0.1749)  loss_box_reg: 0.0382 (0.0429)  loss_mask: 0.2414 (1.1213)  loss_objectness: 0.0675 (0.3482)  loss_rpn_box_reg: 0.0559 (0.1816)  time: 5.5455  data: 4.1192  max mem: 5283\n",
            "Epoch: [0]  [ 50/220]  eta: 0:16:29  lr: 0.001168  loss: 0.4882 (1.6225)  loss_classifier: 0.0574 (0.1542)  loss_box_reg: 0.0379 (0.0444)  loss_mask: 0.2305 (0.9494)  loss_objectness: 0.0651 (0.3002)  loss_rpn_box_reg: 0.0871 (0.1743)  time: 6.0245  data: 4.6333  max mem: 5312\n",
            "Epoch: [0]  [ 60/220]  eta: 0:15:00  lr: 0.001396  loss: 0.5742 (1.4658)  loss_classifier: 0.0524 (0.1375)  loss_box_reg: 0.0360 (0.0434)  loss_mask: 0.2305 (0.8359)  loss_objectness: 0.0840 (0.2737)  loss_rpn_box_reg: 0.1293 (0.1754)  time: 5.8432  data: 4.4716  max mem: 5312\n",
            "Epoch: [0]  [ 70/220]  eta: 0:13:48  lr: 0.001624  loss: 0.4899 (1.3235)  loss_classifier: 0.0532 (0.1281)  loss_box_reg: 0.0427 (0.0459)  loss_mask: 0.1880 (0.7451)  loss_objectness: 0.0710 (0.2440)  loss_rpn_box_reg: 0.0770 (0.1604)  time: 4.7611  data: 3.3406  max mem: 5312\n",
            "Epoch: [0]  [ 80/220]  eta: 0:12:51  lr: 0.001852  loss: 0.4478 (1.2265)  loss_classifier: 0.0576 (0.1200)  loss_box_reg: 0.0546 (0.0468)  loss_mask: 0.1748 (0.6784)  loss_objectness: 0.0663 (0.2305)  loss_rpn_box_reg: 0.0627 (0.1509)  time: 5.1576  data: 3.7042  max mem: 5312\n",
            "Epoch: [0]  [ 90/220]  eta: 0:11:48  lr: 0.002081  loss: 0.4520 (1.1428)  loss_classifier: 0.0514 (0.1130)  loss_box_reg: 0.0517 (0.0490)  loss_mask: 0.1886 (0.6253)  loss_objectness: 0.0663 (0.2126)  loss_rpn_box_reg: 0.0507 (0.1429)  time: 5.1866  data: 3.7589  max mem: 5312\n",
            "Epoch: [0]  [100/220]  eta: 0:11:10  lr: 0.002309  loss: 0.4465 (1.0795)  loss_classifier: 0.0479 (0.1067)  loss_box_reg: 0.0517 (0.0504)  loss_mask: 0.1956 (0.5847)  loss_objectness: 0.0515 (0.1997)  loss_rpn_box_reg: 0.0553 (0.1380)  time: 5.8932  data: 4.4683  max mem: 5312\n",
            "Epoch: [0]  [110/220]  eta: 0:10:23  lr: 0.002537  loss: 0.4268 (1.0240)  loss_classifier: 0.0489 (0.1027)  loss_box_reg: 0.0566 (0.0533)  loss_mask: 0.1705 (0.5484)  loss_objectness: 0.0424 (0.1863)  loss_rpn_box_reg: 0.0553 (0.1334)  time: 6.6964  data: 5.3031  max mem: 5312\n",
            "Epoch: [0]  [120/220]  eta: 0:09:22  lr: 0.002765  loss: 0.4403 (0.9782)  loss_classifier: 0.0583 (0.0991)  loss_box_reg: 0.0597 (0.0539)  loss_mask: 0.1652 (0.5194)  loss_objectness: 0.0424 (0.1755)  loss_rpn_box_reg: 0.0679 (0.1303)  time: 5.8051  data: 4.4294  max mem: 5312\n",
            "Epoch: [0]  [130/220]  eta: 0:08:25  lr: 0.002993  loss: 0.4929 (0.9424)  loss_classifier: 0.0646 (0.0974)  loss_box_reg: 0.0666 (0.0580)  loss_mask: 0.1663 (0.4910)  loss_objectness: 0.0371 (0.1659)  loss_rpn_box_reg: 0.0850 (0.1301)  time: 5.2823  data: 3.8552  max mem: 5326\n",
            "Epoch: [0]  [140/220]  eta: 0:07:29  lr: 0.003221  loss: 0.5227 (0.9144)  loss_classifier: 0.0595 (0.0939)  loss_box_reg: 0.0804 (0.0584)  loss_mask: 0.1817 (0.4699)  loss_objectness: 0.0408 (0.1617)  loss_rpn_box_reg: 0.1360 (0.1304)  time: 5.5719  data: 4.1299  max mem: 5326\n",
            "Epoch: [0]  [150/220]  eta: 0:06:26  lr: 0.003449  loss: 0.4041 (0.8810)  loss_classifier: 0.0462 (0.0913)  loss_box_reg: 0.0504 (0.0592)  loss_mask: 0.1583 (0.4487)  loss_objectness: 0.0408 (0.1534)  loss_rpn_box_reg: 0.1068 (0.1284)  time: 4.9610  data: 3.5377  max mem: 5326\n",
            "Epoch: [0]  [160/220]  eta: 0:05:31  lr: 0.003677  loss: 0.3517 (0.8515)  loss_classifier: 0.0615 (0.0895)  loss_box_reg: 0.0751 (0.0611)  loss_mask: 0.1269 (0.4296)  loss_objectness: 0.0366 (0.1465)  loss_rpn_box_reg: 0.0597 (0.1248)  time: 4.8730  data: 3.4304  max mem: 5326\n",
            "Epoch: [0]  [170/220]  eta: 0:04:34  lr: 0.003905  loss: 0.3517 (0.8240)  loss_classifier: 0.0516 (0.0872)  loss_box_reg: 0.0724 (0.0615)  loss_mask: 0.1395 (0.4137)  loss_objectness: 0.0273 (0.1396)  loss_rpn_box_reg: 0.0569 (0.1219)  time: 5.2157  data: 3.7904  max mem: 5326\n",
            "Epoch: [0]  [180/220]  eta: 0:03:39  lr: 0.004133  loss: 0.3648 (0.8010)  loss_classifier: 0.0505 (0.0855)  loss_box_reg: 0.0641 (0.0621)  loss_mask: 0.1480 (0.3991)  loss_objectness: 0.0322 (0.1348)  loss_rpn_box_reg: 0.0662 (0.1195)  time: 5.2927  data: 3.8703  max mem: 5326\n",
            "Epoch: [0]  [190/220]  eta: 0:02:44  lr: 0.004361  loss: 0.3550 (0.7797)  loss_classifier: 0.0474 (0.0833)  loss_box_reg: 0.0552 (0.0620)  loss_mask: 0.1604 (0.3871)  loss_objectness: 0.0298 (0.1291)  loss_rpn_box_reg: 0.0627 (0.1182)  time: 5.4954  data: 4.0702  max mem: 5326\n",
            "Epoch: [0]  [200/220]  eta: 0:01:49  lr: 0.004589  loss: 0.3631 (0.7627)  loss_classifier: 0.0422 (0.0820)  loss_box_reg: 0.0523 (0.0622)  loss_mask: 0.1754 (0.3774)  loss_objectness: 0.0190 (0.1250)  loss_rpn_box_reg: 0.0620 (0.1160)  time: 5.4359  data: 4.0512  max mem: 5327\n",
            "Epoch: [0]  [210/220]  eta: 0:00:55  lr: 0.004818  loss: 0.3631 (0.7444)  loss_classifier: 0.0422 (0.0803)  loss_box_reg: 0.0500 (0.0619)  loss_mask: 0.1426 (0.3666)  loss_objectness: 0.0289 (0.1207)  loss_rpn_box_reg: 0.0596 (0.1149)  time: 5.7480  data: 4.3598  max mem: 5327\n",
            "Epoch: [0]  [219/220]  eta: 0:00:05  lr: 0.005000  loss: 0.3902 (0.7327)  loss_classifier: 0.0398 (0.0788)  loss_box_reg: 0.0408 (0.0608)  loss_mask: 0.1357 (0.3592)  loss_objectness: 0.0312 (0.1200)  loss_rpn_box_reg: 0.0565 (0.1139)  time: 5.1182  data: 3.7674  max mem: 5327\n",
            "Epoch: [0] Total time: 0:20:04 (5.4764 s / it)\n",
            "Epoch: [1]  [  0/220]  eta: 0:53:01  lr: 0.005000  loss: 0.3440 (0.3440)  loss_classifier: 0.0574 (0.0574)  loss_box_reg: 0.0595 (0.0595)  loss_mask: 0.1500 (0.1500)  loss_objectness: 0.0477 (0.0477)  loss_rpn_box_reg: 0.0294 (0.0294)  time: 14.4621  data: 12.9673  max mem: 5327\n",
            "Epoch: [1]  [ 10/220]  eta: 0:22:13  lr: 0.005000  loss: 0.2747 (0.3298)  loss_classifier: 0.0444 (0.0448)  loss_box_reg: 0.0518 (0.0466)  loss_mask: 0.1166 (0.1287)  loss_objectness: 0.0253 (0.0376)  loss_rpn_box_reg: 0.0403 (0.0720)  time: 6.3500  data: 4.9262  max mem: 5327\n",
            "Epoch: [1]  [ 20/220]  eta: 0:19:40  lr: 0.005000  loss: 0.2956 (0.3933)  loss_classifier: 0.0438 (0.0437)  loss_box_reg: 0.0418 (0.0450)  loss_mask: 0.1333 (0.1464)  loss_objectness: 0.0283 (0.0517)  loss_rpn_box_reg: 0.0664 (0.1066)  time: 5.4733  data: 4.0864  max mem: 5327\n",
            "Epoch: [1]  [ 30/220]  eta: 0:19:00  lr: 0.005000  loss: 0.3959 (0.4131)  loss_classifier: 0.0430 (0.0441)  loss_box_reg: 0.0418 (0.0481)  loss_mask: 0.1611 (0.1520)  loss_objectness: 0.0447 (0.0510)  loss_rpn_box_reg: 0.1117 (0.1180)  time: 5.8081  data: 4.4259  max mem: 5327\n",
            "Epoch: [1]  [ 40/220]  eta: 0:17:27  lr: 0.005000  loss: 0.4211 (0.4339)  loss_classifier: 0.0326 (0.0425)  loss_box_reg: 0.0393 (0.0470)  loss_mask: 0.1713 (0.1583)  loss_objectness: 0.0373 (0.0542)  loss_rpn_box_reg: 0.1226 (0.1318)  time: 5.7361  data: 4.3281  max mem: 5327\n",
            "Epoch: [1]  [ 50/220]  eta: 0:16:25  lr: 0.005000  loss: 0.4211 (0.4288)  loss_classifier: 0.0306 (0.0404)  loss_box_reg: 0.0393 (0.0467)  loss_mask: 0.1541 (0.1591)  loss_objectness: 0.0319 (0.0504)  loss_rpn_box_reg: 0.1358 (0.1321)  time: 5.4786  data: 4.0613  max mem: 5327\n",
            "Epoch: [1]  [ 60/220]  eta: 0:15:32  lr: 0.005000  loss: 0.3125 (0.4093)  loss_classifier: 0.0338 (0.0407)  loss_box_reg: 0.0438 (0.0478)  loss_mask: 0.1211 (0.1545)  loss_objectness: 0.0234 (0.0450)  loss_rpn_box_reg: 0.0822 (0.1213)  time: 5.8442  data: 4.4381  max mem: 5327\n",
            "Epoch: [1]  [ 70/220]  eta: 0:14:23  lr: 0.005000  loss: 0.3059 (0.4001)  loss_classifier: 0.0429 (0.0417)  loss_box_reg: 0.0469 (0.0488)  loss_mask: 0.1421 (0.1532)  loss_objectness: 0.0166 (0.0424)  loss_rpn_box_reg: 0.0439 (0.1140)  time: 5.6642  data: 4.2762  max mem: 5327\n",
            "Epoch: [1]  [ 80/220]  eta: 0:13:26  lr: 0.005000  loss: 0.3188 (0.3937)  loss_classifier: 0.0429 (0.0423)  loss_box_reg: 0.0503 (0.0485)  loss_mask: 0.1444 (0.1547)  loss_objectness: 0.0172 (0.0399)  loss_rpn_box_reg: 0.0592 (0.1082)  time: 5.5653  data: 4.1905  max mem: 5327\n",
            "Epoch: [1]  [ 90/220]  eta: 0:12:46  lr: 0.005000  loss: 0.3388 (0.3957)  loss_classifier: 0.0432 (0.0440)  loss_box_reg: 0.0533 (0.0517)  loss_mask: 0.1444 (0.1539)  loss_objectness: 0.0184 (0.0393)  loss_rpn_box_reg: 0.0672 (0.1067)  time: 6.3976  data: 5.0019  max mem: 5327\n",
            "Epoch: [1]  [100/220]  eta: 0:11:48  lr: 0.005000  loss: 0.3704 (0.3936)  loss_classifier: 0.0502 (0.0443)  loss_box_reg: 0.0562 (0.0519)  loss_mask: 0.1465 (0.1520)  loss_objectness: 0.0214 (0.0388)  loss_rpn_box_reg: 0.0912 (0.1066)  time: 6.4891  data: 5.0575  max mem: 5327\n",
            "Epoch: [1]  [110/220]  eta: 0:10:46  lr: 0.005000  loss: 0.3620 (0.3947)  loss_classifier: 0.0361 (0.0435)  loss_box_reg: 0.0377 (0.0508)  loss_mask: 0.1470 (0.1539)  loss_objectness: 0.0253 (0.0408)  loss_rpn_box_reg: 0.0755 (0.1057)  time: 5.7663  data: 4.3440  max mem: 5327\n",
            "Epoch: [1]  [120/220]  eta: 0:09:41  lr: 0.005000  loss: 0.3774 (0.3935)  loss_classifier: 0.0341 (0.0431)  loss_box_reg: 0.0362 (0.0501)  loss_mask: 0.1484 (0.1538)  loss_objectness: 0.0364 (0.0406)  loss_rpn_box_reg: 0.0755 (0.1059)  time: 5.3695  data: 3.9383  max mem: 5327\n",
            "Epoch: [1]  [130/220]  eta: 0:08:40  lr: 0.005000  loss: 0.3743 (0.3966)  loss_classifier: 0.0327 (0.0430)  loss_box_reg: 0.0362 (0.0498)  loss_mask: 0.1549 (0.1551)  loss_objectness: 0.0277 (0.0419)  loss_rpn_box_reg: 0.0895 (0.1067)  time: 5.2912  data: 3.8295  max mem: 5327\n",
            "Epoch: [1]  [140/220]  eta: 0:07:45  lr: 0.005000  loss: 0.3586 (0.4022)  loss_classifier: 0.0317 (0.0434)  loss_box_reg: 0.0370 (0.0505)  loss_mask: 0.1760 (0.1576)  loss_objectness: 0.0239 (0.0463)  loss_rpn_box_reg: 0.0545 (0.1044)  time: 5.8609  data: 4.4204  max mem: 5384\n",
            "Epoch: [1]  [150/220]  eta: 0:06:41  lr: 0.005000  loss: 0.3674 (0.4036)  loss_classifier: 0.0317 (0.0430)  loss_box_reg: 0.0458 (0.0508)  loss_mask: 0.1627 (0.1576)  loss_objectness: 0.0378 (0.0474)  loss_rpn_box_reg: 0.0553 (0.1047)  time: 5.4138  data: 4.0063  max mem: 5384\n",
            "Epoch: [1]  [160/220]  eta: 0:05:45  lr: 0.005000  loss: 0.3596 (0.4016)  loss_classifier: 0.0375 (0.0433)  loss_box_reg: 0.0398 (0.0507)  loss_mask: 0.1554 (0.1587)  loss_objectness: 0.0415 (0.0471)  loss_rpn_box_reg: 0.0553 (0.1018)  time: 5.3434  data: 3.9101  max mem: 5384\n",
            "Epoch: [1]  [170/220]  eta: 0:04:46  lr: 0.005000  loss: 0.3514 (0.3995)  loss_classifier: 0.0444 (0.0437)  loss_box_reg: 0.0458 (0.0513)  loss_mask: 0.1554 (0.1577)  loss_objectness: 0.0340 (0.0462)  loss_rpn_box_reg: 0.0538 (0.1006)  time: 5.6821  data: 4.2600  max mem: 5384\n",
            "Epoch: [1]  [180/220]  eta: 0:03:48  lr: 0.005000  loss: 0.2802 (0.3931)  loss_classifier: 0.0419 (0.0435)  loss_box_reg: 0.0520 (0.0512)  loss_mask: 0.1167 (0.1558)  loss_objectness: 0.0171 (0.0450)  loss_rpn_box_reg: 0.0443 (0.0976)  time: 5.2773  data: 3.8843  max mem: 5384\n",
            "Epoch: [1]  [190/220]  eta: 0:02:52  lr: 0.005000  loss: 0.3095 (0.3902)  loss_classifier: 0.0362 (0.0431)  loss_box_reg: 0.0473 (0.0512)  loss_mask: 0.1285 (0.1553)  loss_objectness: 0.0150 (0.0443)  loss_rpn_box_reg: 0.0460 (0.0963)  time: 5.8003  data: 4.4212  max mem: 5384\n",
            "Epoch: [1]  [200/220]  eta: 0:01:54  lr: 0.005000  loss: 0.3111 (0.3887)  loss_classifier: 0.0362 (0.0439)  loss_box_reg: 0.0512 (0.0522)  loss_mask: 0.1389 (0.1558)  loss_objectness: 0.0167 (0.0430)  loss_rpn_box_reg: 0.0427 (0.0937)  time: 5.6522  data: 4.2923  max mem: 5384\n",
            "Epoch: [1]  [210/220]  eta: 0:00:56  lr: 0.005000  loss: 0.3443 (0.3886)  loss_classifier: 0.0421 (0.0437)  loss_box_reg: 0.0516 (0.0520)  loss_mask: 0.1623 (0.1563)  loss_objectness: 0.0165 (0.0420)  loss_rpn_box_reg: 0.0489 (0.0946)  time: 5.2893  data: 3.9160  max mem: 5384\n",
            "Epoch: [1]  [219/220]  eta: 0:00:05  lr: 0.005000  loss: 0.3444 (0.3853)  loss_classifier: 0.0317 (0.0432)  loss_box_reg: 0.0388 (0.0515)  loss_mask: 0.1621 (0.1558)  loss_objectness: 0.0146 (0.0411)  loss_rpn_box_reg: 0.0675 (0.0937)  time: 4.6948  data: 3.3462  max mem: 5384\n",
            "Epoch: [1] Total time: 0:20:34 (5.6107 s / it)\n",
            "Epoch: [2]  [  0/220]  eta: 0:30:32  lr: 0.005000  loss: 0.5595 (0.5595)  loss_classifier: 0.0209 (0.0209)  loss_box_reg: 0.0244 (0.0244)  loss_mask: 0.2780 (0.2780)  loss_objectness: 0.0207 (0.0207)  loss_rpn_box_reg: 0.2155 (0.2155)  time: 8.3281  data: 6.8545  max mem: 5384\n",
            "Epoch: [2]  [ 10/220]  eta: 0:19:57  lr: 0.005000  loss: 0.3609 (0.3769)  loss_classifier: 0.0346 (0.0417)  loss_box_reg: 0.0458 (0.0543)  loss_mask: 0.1479 (0.1446)  loss_objectness: 0.0101 (0.0202)  loss_rpn_box_reg: 0.0653 (0.1161)  time: 5.7032  data: 4.2443  max mem: 5384\n",
            "Epoch: [2]  [ 20/220]  eta: 0:19:07  lr: 0.005000  loss: 0.3215 (0.3638)  loss_classifier: 0.0417 (0.0441)  loss_box_reg: 0.0407 (0.0546)  loss_mask: 0.1544 (0.1500)  loss_objectness: 0.0154 (0.0224)  loss_rpn_box_reg: 0.0343 (0.0926)  time: 5.6091  data: 4.1831  max mem: 5384\n",
            "Epoch: [2]  [ 30/220]  eta: 0:18:00  lr: 0.005000  loss: 0.3221 (0.3574)  loss_classifier: 0.0353 (0.0429)  loss_box_reg: 0.0420 (0.0541)  loss_mask: 0.1704 (0.1559)  loss_objectness: 0.0147 (0.0210)  loss_rpn_box_reg: 0.0481 (0.0836)  time: 5.6751  data: 4.2617  max mem: 5384\n",
            "Epoch: [2]  [ 40/220]  eta: 0:16:36  lr: 0.005000  loss: 0.3282 (0.3541)  loss_classifier: 0.0267 (0.0406)  loss_box_reg: 0.0458 (0.0520)  loss_mask: 0.1739 (0.1592)  loss_objectness: 0.0142 (0.0209)  loss_rpn_box_reg: 0.0511 (0.0814)  time: 5.3216  data: 3.9033  max mem: 5384\n",
            "Epoch: [2]  [ 50/220]  eta: 0:15:24  lr: 0.005000  loss: 0.3293 (0.3604)  loss_classifier: 0.0319 (0.0408)  loss_box_reg: 0.0349 (0.0506)  loss_mask: 0.1491 (0.1554)  loss_objectness: 0.0244 (0.0332)  loss_rpn_box_reg: 0.0561 (0.0804)  time: 5.0577  data: 3.6428  max mem: 5384\n",
            "Epoch: [2]  [ 60/220]  eta: 0:14:17  lr: 0.005000  loss: 0.3293 (0.3538)  loss_classifier: 0.0347 (0.0407)  loss_box_reg: 0.0343 (0.0493)  loss_mask: 0.1344 (0.1510)  loss_objectness: 0.0350 (0.0346)  loss_rpn_box_reg: 0.0561 (0.0782)  time: 4.9998  data: 3.5857  max mem: 5384\n",
            "Epoch: [2]  [ 70/220]  eta: 0:13:31  lr: 0.005000  loss: 0.3338 (0.3583)  loss_classifier: 0.0322 (0.0403)  loss_box_reg: 0.0364 (0.0497)  loss_mask: 0.1343 (0.1522)  loss_objectness: 0.0210 (0.0356)  loss_rpn_box_reg: 0.0587 (0.0806)  time: 5.3303  data: 3.8944  max mem: 5384\n",
            "Epoch: [2]  [ 80/220]  eta: 0:12:29  lr: 0.005000  loss: 0.3635 (0.3612)  loss_classifier: 0.0331 (0.0398)  loss_box_reg: 0.0500 (0.0510)  loss_mask: 0.1633 (0.1557)  loss_objectness: 0.0210 (0.0364)  loss_rpn_box_reg: 0.0662 (0.0783)  time: 5.3433  data: 3.9040  max mem: 5384\n",
            "Epoch: [2]  [ 90/220]  eta: 0:11:29  lr: 0.005000  loss: 0.3367 (0.3548)  loss_classifier: 0.0331 (0.0387)  loss_box_reg: 0.0500 (0.0506)  loss_mask: 0.1663 (0.1559)  loss_objectness: 0.0225 (0.0353)  loss_rpn_box_reg: 0.0402 (0.0744)  time: 4.9249  data: 3.5148  max mem: 5384\n",
            "Epoch: [2]  [100/220]  eta: 0:10:49  lr: 0.005000  loss: 0.3367 (0.3550)  loss_classifier: 0.0317 (0.0387)  loss_box_reg: 0.0450 (0.0502)  loss_mask: 0.1655 (0.1563)  loss_objectness: 0.0182 (0.0339)  loss_rpn_box_reg: 0.0501 (0.0759)  time: 5.6233  data: 4.2151  max mem: 5384\n",
            "Epoch: [2]  [110/220]  eta: 0:09:54  lr: 0.005000  loss: 0.3277 (0.3500)  loss_classifier: 0.0370 (0.0387)  loss_box_reg: 0.0488 (0.0502)  loss_mask: 0.1363 (0.1549)  loss_objectness: 0.0150 (0.0320)  loss_rpn_box_reg: 0.0706 (0.0741)  time: 5.8480  data: 4.4640  max mem: 5384\n",
            "Epoch: [2]  [120/220]  eta: 0:09:01  lr: 0.005000  loss: 0.3184 (0.3500)  loss_classifier: 0.0381 (0.0388)  loss_box_reg: 0.0488 (0.0499)  loss_mask: 0.1363 (0.1539)  loss_objectness: 0.0141 (0.0318)  loss_rpn_box_reg: 0.0345 (0.0756)  time: 5.4195  data: 4.0195  max mem: 5384\n",
            "Epoch: [2]  [130/220]  eta: 0:08:11  lr: 0.005000  loss: 0.2676 (0.3460)  loss_classifier: 0.0337 (0.0388)  loss_box_reg: 0.0433 (0.0503)  loss_mask: 0.1282 (0.1529)  loss_objectness: 0.0158 (0.0306)  loss_rpn_box_reg: 0.0344 (0.0733)  time: 5.8207  data: 4.3963  max mem: 5384\n",
            "Epoch: [2]  [140/220]  eta: 0:07:17  lr: 0.005000  loss: 0.2737 (0.3464)  loss_classifier: 0.0369 (0.0391)  loss_box_reg: 0.0470 (0.0504)  loss_mask: 0.1387 (0.1537)  loss_objectness: 0.0157 (0.0300)  loss_rpn_box_reg: 0.0522 (0.0732)  time: 5.7836  data: 4.3924  max mem: 5384\n",
            "Epoch: [2]  [150/220]  eta: 0:06:28  lr: 0.005000  loss: 0.3124 (0.3448)  loss_classifier: 0.0369 (0.0389)  loss_box_reg: 0.0471 (0.0508)  loss_mask: 0.1407 (0.1527)  loss_objectness: 0.0112 (0.0291)  loss_rpn_box_reg: 0.0629 (0.0732)  time: 6.0702  data: 4.6933  max mem: 5384\n",
            "Epoch: [2]  [160/220]  eta: 0:05:31  lr: 0.005000  loss: 0.2793 (0.3457)  loss_classifier: 0.0351 (0.0389)  loss_box_reg: 0.0471 (0.0512)  loss_mask: 0.1407 (0.1542)  loss_objectness: 0.0122 (0.0288)  loss_rpn_box_reg: 0.0568 (0.0726)  time: 5.9221  data: 4.5190  max mem: 5384\n",
            "Epoch: [2]  [170/220]  eta: 0:04:36  lr: 0.005000  loss: 0.3423 (0.3450)  loss_classifier: 0.0383 (0.0394)  loss_box_reg: 0.0463 (0.0518)  loss_mask: 0.1568 (0.1535)  loss_objectness: 0.0122 (0.0279)  loss_rpn_box_reg: 0.0565 (0.0723)  time: 5.3491  data: 3.9351  max mem: 5384\n",
            "Epoch: [2]  [180/220]  eta: 0:03:44  lr: 0.005000  loss: 0.2795 (0.3421)  loss_classifier: 0.0399 (0.0397)  loss_box_reg: 0.0554 (0.0525)  loss_mask: 0.1205 (0.1522)  loss_objectness: 0.0121 (0.0276)  loss_rpn_box_reg: 0.0428 (0.0701)  time: 6.3307  data: 4.9028  max mem: 5384\n",
            "Epoch: [2]  [190/220]  eta: 0:02:48  lr: 0.005000  loss: 0.2789 (0.3406)  loss_classifier: 0.0355 (0.0396)  loss_box_reg: 0.0554 (0.0524)  loss_mask: 0.1137 (0.1509)  loss_objectness: 0.0126 (0.0270)  loss_rpn_box_reg: 0.0315 (0.0707)  time: 6.5273  data: 5.1062  max mem: 5384\n",
            "Epoch: [2]  [200/220]  eta: 0:01:52  lr: 0.005000  loss: 0.2825 (0.3399)  loss_classifier: 0.0314 (0.0396)  loss_box_reg: 0.0501 (0.0525)  loss_mask: 0.1164 (0.1501)  loss_objectness: 0.0117 (0.0272)  loss_rpn_box_reg: 0.0739 (0.0706)  time: 5.7231  data: 4.3481  max mem: 5384\n",
            "Epoch: [2]  [210/220]  eta: 0:00:56  lr: 0.005000  loss: 0.2878 (0.3364)  loss_classifier: 0.0302 (0.0392)  loss_box_reg: 0.0498 (0.0522)  loss_mask: 0.1187 (0.1495)  loss_objectness: 0.0145 (0.0267)  loss_rpn_box_reg: 0.0351 (0.0689)  time: 5.3436  data: 3.9648  max mem: 5384\n",
            "Epoch: [2]  [219/220]  eta: 0:00:05  lr: 0.005000  loss: 0.2903 (0.3346)  loss_classifier: 0.0255 (0.0389)  loss_box_reg: 0.0383 (0.0518)  loss_mask: 0.1422 (0.1497)  loss_objectness: 0.0130 (0.0262)  loss_rpn_box_reg: 0.0297 (0.0680)  time: 5.2347  data: 3.8871  max mem: 5384\n",
            "Epoch: [2] Total time: 0:20:25 (5.5719 s / it)\n",
            "Epoch: [3]  [  0/220]  eta: 0:50:45  lr: 0.000500  loss: 0.2501 (0.2501)  loss_classifier: 0.0365 (0.0365)  loss_box_reg: 0.0452 (0.0452)  loss_mask: 0.1155 (0.1155)  loss_objectness: 0.0159 (0.0159)  loss_rpn_box_reg: 0.0370 (0.0370)  time: 13.8454  data: 12.4395  max mem: 5384\n",
            "Epoch: [3]  [ 10/220]  eta: 0:21:28  lr: 0.000500  loss: 0.2612 (0.2919)  loss_classifier: 0.0291 (0.0372)  loss_box_reg: 0.0463 (0.0519)  loss_mask: 0.1184 (0.1294)  loss_objectness: 0.0115 (0.0124)  loss_rpn_box_reg: 0.0455 (0.0611)  time: 6.1347  data: 4.7404  max mem: 5384\n",
            "Epoch: [3]  [ 20/220]  eta: 0:19:54  lr: 0.000500  loss: 0.2612 (0.3065)  loss_classifier: 0.0291 (0.0362)  loss_box_reg: 0.0463 (0.0518)  loss_mask: 0.1446 (0.1415)  loss_objectness: 0.0115 (0.0125)  loss_rpn_box_reg: 0.0457 (0.0645)  time: 5.5787  data: 4.1851  max mem: 5384\n",
            "Epoch: [3]  [ 30/220]  eta: 0:19:10  lr: 0.000500  loss: 0.2511 (0.2906)  loss_classifier: 0.0307 (0.0364)  loss_box_reg: 0.0401 (0.0510)  loss_mask: 0.1214 (0.1381)  loss_objectness: 0.0097 (0.0114)  loss_rpn_box_reg: 0.0351 (0.0537)  time: 6.0102  data: 4.6220  max mem: 5384\n",
            "Epoch: [3]  [ 40/220]  eta: 0:17:39  lr: 0.000500  loss: 0.2534 (0.2953)  loss_classifier: 0.0280 (0.0346)  loss_box_reg: 0.0387 (0.0476)  loss_mask: 0.1210 (0.1406)  loss_objectness: 0.0122 (0.0168)  loss_rpn_box_reg: 0.0351 (0.0558)  time: 5.7955  data: 4.3947  max mem: 5384\n",
            "Epoch: [3]  [ 50/220]  eta: 0:16:58  lr: 0.000500  loss: 0.3187 (0.3012)  loss_classifier: 0.0324 (0.0353)  loss_box_reg: 0.0356 (0.0479)  loss_mask: 0.1531 (0.1446)  loss_objectness: 0.0142 (0.0167)  loss_rpn_box_reg: 0.0445 (0.0568)  time: 5.8968  data: 4.4885  max mem: 5384\n",
            "Epoch: [3]  [ 60/220]  eta: 0:16:20  lr: 0.000500  loss: 0.2797 (0.2939)  loss_classifier: 0.0339 (0.0355)  loss_box_reg: 0.0398 (0.0491)  loss_mask: 0.1154 (0.1406)  loss_objectness: 0.0105 (0.0157)  loss_rpn_box_reg: 0.0403 (0.0530)  time: 6.6175  data: 5.2176  max mem: 5384\n",
            "Epoch: [3]  [ 70/220]  eta: 0:14:47  lr: 0.000500  loss: 0.2406 (0.2856)  loss_classifier: 0.0272 (0.0343)  loss_box_reg: 0.0402 (0.0477)  loss_mask: 0.1172 (0.1397)  loss_objectness: 0.0088 (0.0150)  loss_rpn_box_reg: 0.0200 (0.0490)  time: 5.7205  data: 4.3079  max mem: 5384\n",
            "Epoch: [3]  [ 80/220]  eta: 0:13:44  lr: 0.000500  loss: 0.2522 (0.2903)  loss_classifier: 0.0272 (0.0355)  loss_box_reg: 0.0440 (0.0511)  loss_mask: 0.1314 (0.1399)  loss_objectness: 0.0092 (0.0147)  loss_rpn_box_reg: 0.0245 (0.0491)  time: 5.1807  data: 3.7457  max mem: 5384\n",
            "Epoch: [3]  [ 90/220]  eta: 0:12:41  lr: 0.000500  loss: 0.2791 (0.2934)  loss_classifier: 0.0322 (0.0356)  loss_box_reg: 0.0597 (0.0522)  loss_mask: 0.1443 (0.1429)  loss_objectness: 0.0104 (0.0144)  loss_rpn_box_reg: 0.0328 (0.0484)  time: 5.6607  data: 4.2466  max mem: 5384\n",
            "Epoch: [3]  [100/220]  eta: 0:11:40  lr: 0.000500  loss: 0.2791 (0.2929)  loss_classifier: 0.0294 (0.0357)  loss_box_reg: 0.0446 (0.0521)  loss_mask: 0.1443 (0.1436)  loss_objectness: 0.0104 (0.0142)  loss_rpn_box_reg: 0.0296 (0.0474)  time: 5.6279  data: 4.2087  max mem: 5384\n",
            "Epoch: [3]  [110/220]  eta: 0:10:48  lr: 0.000500  loss: 0.2726 (0.2940)  loss_classifier: 0.0338 (0.0360)  loss_box_reg: 0.0435 (0.0520)  loss_mask: 0.1392 (0.1442)  loss_objectness: 0.0098 (0.0140)  loss_rpn_box_reg: 0.0308 (0.0479)  time: 6.0598  data: 4.6264  max mem: 5384\n",
            "Epoch: [3]  [120/220]  eta: 0:09:46  lr: 0.000500  loss: 0.2815 (0.2948)  loss_classifier: 0.0338 (0.0358)  loss_box_reg: 0.0466 (0.0521)  loss_mask: 0.1263 (0.1444)  loss_objectness: 0.0096 (0.0140)  loss_rpn_box_reg: 0.0391 (0.0485)  time: 5.9975  data: 4.5636  max mem: 5384\n",
            "Epoch: [3]  [130/220]  eta: 0:08:44  lr: 0.000500  loss: 0.2799 (0.2945)  loss_classifier: 0.0297 (0.0354)  loss_box_reg: 0.0457 (0.0517)  loss_mask: 0.1263 (0.1461)  loss_objectness: 0.0080 (0.0134)  loss_rpn_box_reg: 0.0392 (0.0479)  time: 5.4499  data: 3.9923  max mem: 5384\n",
            "Epoch: [3]  [140/220]  eta: 0:07:50  lr: 0.000500  loss: 0.2978 (0.2967)  loss_classifier: 0.0316 (0.0352)  loss_box_reg: 0.0419 (0.0513)  loss_mask: 0.1455 (0.1477)  loss_objectness: 0.0082 (0.0137)  loss_rpn_box_reg: 0.0410 (0.0488)  time: 5.9812  data: 4.5079  max mem: 5384\n",
            "Epoch: [3]  [150/220]  eta: 0:06:54  lr: 0.000500  loss: 0.2730 (0.2933)  loss_classifier: 0.0332 (0.0351)  loss_box_reg: 0.0423 (0.0511)  loss_mask: 0.1351 (0.1461)  loss_objectness: 0.0090 (0.0134)  loss_rpn_box_reg: 0.0418 (0.0476)  time: 6.4969  data: 5.0208  max mem: 5384\n",
            "Epoch: [3]  [160/220]  eta: 0:05:51  lr: 0.000500  loss: 0.2653 (0.2964)  loss_classifier: 0.0332 (0.0356)  loss_box_reg: 0.0498 (0.0522)  loss_mask: 0.1279 (0.1471)  loss_objectness: 0.0079 (0.0135)  loss_rpn_box_reg: 0.0288 (0.0480)  time: 5.7274  data: 4.2480  max mem: 5384\n",
            "Epoch: [3]  [170/220]  eta: 0:04:53  lr: 0.000500  loss: 0.2632 (0.2968)  loss_classifier: 0.0331 (0.0358)  loss_box_reg: 0.0480 (0.0524)  loss_mask: 0.1441 (0.1469)  loss_objectness: 0.0099 (0.0134)  loss_rpn_box_reg: 0.0278 (0.0484)  time: 5.5875  data: 4.0888  max mem: 5399\n",
            "Epoch: [3]  [180/220]  eta: 0:03:55  lr: 0.000500  loss: 0.2342 (0.2951)  loss_classifier: 0.0314 (0.0355)  loss_box_reg: 0.0447 (0.0521)  loss_mask: 0.1402 (0.1469)  loss_objectness: 0.0091 (0.0131)  loss_rpn_box_reg: 0.0235 (0.0475)  time: 6.0995  data: 4.6228  max mem: 5399\n",
            "Epoch: [3]  [190/220]  eta: 0:02:57  lr: 0.000500  loss: 0.2708 (0.2943)  loss_classifier: 0.0287 (0.0353)  loss_box_reg: 0.0441 (0.0517)  loss_mask: 0.1402 (0.1469)  loss_objectness: 0.0083 (0.0130)  loss_rpn_box_reg: 0.0323 (0.0475)  time: 6.1156  data: 4.6403  max mem: 5399\n",
            "Epoch: [3]  [200/220]  eta: 0:01:57  lr: 0.000500  loss: 0.2868 (0.2944)  loss_classifier: 0.0287 (0.0350)  loss_box_reg: 0.0412 (0.0517)  loss_mask: 0.1412 (0.1476)  loss_objectness: 0.0088 (0.0128)  loss_rpn_box_reg: 0.0378 (0.0472)  time: 5.8365  data: 4.3133  max mem: 5399\n",
            "Epoch: [3]  [210/220]  eta: 0:00:58  lr: 0.000500  loss: 0.2647 (0.2923)  loss_classifier: 0.0300 (0.0349)  loss_box_reg: 0.0397 (0.0513)  loss_mask: 0.1358 (0.1467)  loss_objectness: 0.0085 (0.0127)  loss_rpn_box_reg: 0.0326 (0.0465)  time: 5.5019  data: 4.0167  max mem: 5399\n",
            "Epoch: [3]  [219/220]  eta: 0:00:05  lr: 0.000500  loss: 0.2647 (0.2925)  loss_classifier: 0.0323 (0.0353)  loss_box_reg: 0.0455 (0.0519)  loss_mask: 0.1224 (0.1463)  loss_objectness: 0.0080 (0.0127)  loss_rpn_box_reg: 0.0349 (0.0463)  time: 5.0805  data: 3.6520  max mem: 5399\n",
            "Epoch: [3] Total time: 0:21:16 (5.8019 s / it)\n",
            "Epoch: [4]  [  0/220]  eta: 0:48:09  lr: 0.000500  loss: 0.2873 (0.2873)  loss_classifier: 0.0315 (0.0315)  loss_box_reg: 0.0681 (0.0681)  loss_mask: 0.1504 (0.1504)  loss_objectness: 0.0083 (0.0083)  loss_rpn_box_reg: 0.0290 (0.0290)  time: 13.1345  data: 11.4746  max mem: 5399\n",
            "Epoch: [4]  [ 10/220]  eta: 0:21:09  lr: 0.000500  loss: 0.3398 (0.2994)  loss_classifier: 0.0302 (0.0271)  loss_box_reg: 0.0449 (0.0448)  loss_mask: 0.1793 (0.1776)  loss_objectness: 0.0055 (0.0070)  loss_rpn_box_reg: 0.0314 (0.0429)  time: 6.0434  data: 4.5007  max mem: 5399\n",
            "Epoch: [4]  [ 20/220]  eta: 0:21:34  lr: 0.000500  loss: 0.3398 (0.3044)  loss_classifier: 0.0289 (0.0316)  loss_box_reg: 0.0426 (0.0491)  loss_mask: 0.1658 (0.1707)  loss_objectness: 0.0052 (0.0071)  loss_rpn_box_reg: 0.0481 (0.0460)  time: 6.1391  data: 4.6170  max mem: 5399\n",
            "Epoch: [4]  [ 30/220]  eta: 0:19:22  lr: 0.000500  loss: 0.3010 (0.2977)  loss_classifier: 0.0309 (0.0322)  loss_box_reg: 0.0435 (0.0524)  loss_mask: 0.1487 (0.1625)  loss_objectness: 0.0061 (0.0072)  loss_rpn_box_reg: 0.0347 (0.0434)  time: 6.1572  data: 4.6525  max mem: 5399\n",
            "Epoch: [4]  [ 40/220]  eta: 0:17:38  lr: 0.000500  loss: 0.2477 (0.2930)  loss_classifier: 0.0310 (0.0336)  loss_box_reg: 0.0450 (0.0525)  loss_mask: 0.1269 (0.1526)  loss_objectness: 0.0081 (0.0091)  loss_rpn_box_reg: 0.0347 (0.0452)  time: 5.2638  data: 3.7661  max mem: 5399\n",
            "Epoch: [4]  [ 50/220]  eta: 0:16:10  lr: 0.000500  loss: 0.2475 (0.2926)  loss_classifier: 0.0270 (0.0334)  loss_box_reg: 0.0396 (0.0530)  loss_mask: 0.1242 (0.1538)  loss_objectness: 0.0071 (0.0091)  loss_rpn_box_reg: 0.0353 (0.0433)  time: 5.0799  data: 3.5670  max mem: 5399\n",
            "Epoch: [4]  [ 60/220]  eta: 0:15:01  lr: 0.000500  loss: 0.2912 (0.2980)  loss_classifier: 0.0341 (0.0341)  loss_box_reg: 0.0528 (0.0541)  loss_mask: 0.1361 (0.1530)  loss_objectness: 0.0081 (0.0098)  loss_rpn_box_reg: 0.0353 (0.0470)  time: 5.1286  data: 3.5778  max mem: 5399\n",
            "Epoch: [4]  [ 70/220]  eta: 0:13:51  lr: 0.000500  loss: 0.2612 (0.2948)  loss_classifier: 0.0388 (0.0355)  loss_box_reg: 0.0466 (0.0538)  loss_mask: 0.1243 (0.1503)  loss_objectness: 0.0118 (0.0111)  loss_rpn_box_reg: 0.0286 (0.0441)  time: 5.1275  data: 3.5825  max mem: 5399\n",
            "Epoch: [4]  [ 80/220]  eta: 0:12:51  lr: 0.000500  loss: 0.2481 (0.2923)  loss_classifier: 0.0297 (0.0351)  loss_box_reg: 0.0466 (0.0531)  loss_mask: 0.1249 (0.1490)  loss_objectness: 0.0110 (0.0114)  loss_rpn_box_reg: 0.0223 (0.0437)  time: 5.1327  data: 3.6288  max mem: 5399\n",
            "Epoch: [4]  [ 90/220]  eta: 0:12:10  lr: 0.000500  loss: 0.2481 (0.2906)  loss_classifier: 0.0297 (0.0351)  loss_box_reg: 0.0481 (0.0539)  loss_mask: 0.1227 (0.1463)  loss_objectness: 0.0080 (0.0115)  loss_rpn_box_reg: 0.0255 (0.0439)  time: 5.8813  data: 4.3686  max mem: 5399\n",
            "Epoch: [4]  [100/220]  eta: 0:11:10  lr: 0.000500  loss: 0.2541 (0.2909)  loss_classifier: 0.0309 (0.0349)  loss_box_reg: 0.0502 (0.0537)  loss_mask: 0.1185 (0.1473)  loss_objectness: 0.0085 (0.0115)  loss_rpn_box_reg: 0.0234 (0.0435)  time: 5.9012  data: 4.4072  max mem: 5399\n",
            "Epoch: [4]  [110/220]  eta: 0:10:11  lr: 0.000500  loss: 0.2643 (0.2868)  loss_classifier: 0.0303 (0.0349)  loss_box_reg: 0.0456 (0.0535)  loss_mask: 0.1374 (0.1459)  loss_objectness: 0.0081 (0.0111)  loss_rpn_box_reg: 0.0233 (0.0414)  time: 5.3044  data: 3.8530  max mem: 5399\n",
            "Epoch: [4]  [120/220]  eta: 0:09:12  lr: 0.000500  loss: 0.2479 (0.2855)  loss_classifier: 0.0306 (0.0346)  loss_box_reg: 0.0451 (0.0529)  loss_mask: 0.1441 (0.1464)  loss_objectness: 0.0080 (0.0108)  loss_rpn_box_reg: 0.0216 (0.0407)  time: 5.1867  data: 3.7339  max mem: 5399\n",
            "Epoch: [4]  [130/220]  eta: 0:08:20  lr: 0.000500  loss: 0.2478 (0.2834)  loss_classifier: 0.0324 (0.0349)  loss_box_reg: 0.0473 (0.0530)  loss_mask: 0.1221 (0.1437)  loss_objectness: 0.0083 (0.0110)  loss_rpn_box_reg: 0.0288 (0.0408)  time: 5.5423  data: 4.0502  max mem: 5399\n",
            "Epoch: [4]  [140/220]  eta: 0:07:22  lr: 0.000500  loss: 0.2446 (0.2845)  loss_classifier: 0.0344 (0.0353)  loss_box_reg: 0.0473 (0.0531)  loss_mask: 0.1220 (0.1448)  loss_objectness: 0.0094 (0.0109)  loss_rpn_box_reg: 0.0288 (0.0404)  time: 5.5935  data: 4.0700  max mem: 5399\n",
            "Epoch: [4]  [150/220]  eta: 0:06:26  lr: 0.000500  loss: 0.2840 (0.2844)  loss_classifier: 0.0365 (0.0359)  loss_box_reg: 0.0479 (0.0539)  loss_mask: 0.1235 (0.1430)  loss_objectness: 0.0086 (0.0108)  loss_rpn_box_reg: 0.0356 (0.0408)  time: 5.3184  data: 3.7935  max mem: 5399\n",
            "Epoch: [4]  [160/220]  eta: 0:05:32  lr: 0.000500  loss: 0.2569 (0.2824)  loss_classifier: 0.0306 (0.0356)  loss_box_reg: 0.0479 (0.0534)  loss_mask: 0.1334 (0.1431)  loss_objectness: 0.0085 (0.0107)  loss_rpn_box_reg: 0.0274 (0.0396)  time: 5.6437  data: 4.1318  max mem: 5399\n",
            "Epoch: [4]  [170/220]  eta: 0:04:38  lr: 0.000500  loss: 0.2484 (0.2816)  loss_classifier: 0.0263 (0.0355)  loss_box_reg: 0.0400 (0.0529)  loss_mask: 0.1433 (0.1427)  loss_objectness: 0.0085 (0.0110)  loss_rpn_box_reg: 0.0210 (0.0396)  time: 5.8228  data: 4.3560  max mem: 5399\n",
            "Epoch: [4]  [180/220]  eta: 0:03:41  lr: 0.000500  loss: 0.2587 (0.2808)  loss_classifier: 0.0263 (0.0352)  loss_box_reg: 0.0394 (0.0524)  loss_mask: 0.1106 (0.1433)  loss_objectness: 0.0045 (0.0107)  loss_rpn_box_reg: 0.0292 (0.0391)  time: 5.5553  data: 4.0927  max mem: 5399\n",
            "Epoch: [4]  [190/220]  eta: 0:02:47  lr: 0.000500  loss: 0.2725 (0.2821)  loss_classifier: 0.0288 (0.0351)  loss_box_reg: 0.0382 (0.0522)  loss_mask: 0.1361 (0.1450)  loss_objectness: 0.0072 (0.0107)  loss_rpn_box_reg: 0.0216 (0.0392)  time: 5.7862  data: 4.3180  max mem: 5399\n",
            "Epoch: [4]  [200/220]  eta: 0:01:50  lr: 0.000500  loss: 0.2835 (0.2809)  loss_classifier: 0.0252 (0.0345)  loss_box_reg: 0.0361 (0.0514)  loss_mask: 0.1605 (0.1453)  loss_objectness: 0.0068 (0.0104)  loss_rpn_box_reg: 0.0221 (0.0392)  time: 5.2843  data: 3.8231  max mem: 5399\n",
            "Epoch: [4]  [210/220]  eta: 0:00:55  lr: 0.000500  loss: 0.2767 (0.2805)  loss_classifier: 0.0250 (0.0344)  loss_box_reg: 0.0377 (0.0513)  loss_mask: 0.1272 (0.1446)  loss_objectness: 0.0065 (0.0108)  loss_rpn_box_reg: 0.0405 (0.0395)  time: 5.3850  data: 3.9132  max mem: 5399\n",
            "Epoch: [4]  [219/220]  eta: 0:00:05  lr: 0.000500  loss: 0.2655 (0.2797)  loss_classifier: 0.0274 (0.0342)  loss_box_reg: 0.0397 (0.0511)  loss_mask: 0.1272 (0.1446)  loss_objectness: 0.0048 (0.0106)  loss_rpn_box_reg: 0.0383 (0.0391)  time: 5.4619  data: 4.0434  max mem: 5399\n",
            "Epoch: [4] Total time: 0:20:13 (5.5163 s / it)\n",
            "Training complete. Model saved at ./20210519_4_model.pth\n"
          ],
          "name": "stdout"
        }
      ]
    },
    {
      "cell_type": "markdown",
      "metadata": {
        "id": "-kSBFqAAcqyE"
      },
      "source": [
        "You will then want to download the model for inference on your local machine (if you didn't already save it to Google Drive)."
      ]
    }
  ]
}