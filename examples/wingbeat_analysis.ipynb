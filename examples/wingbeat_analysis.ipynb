{
 "cells": [
  {
   "cell_type": "markdown",
   "metadata": {},
   "source": [
    "# Wingbeat analysis\n",
    "This notebook demonstrates how to analyse wingbeat data output from camfi.\n",
    "\n",
    "First, load the required libraries."
   ]
  },
  {
   "cell_type": "code",
   "execution_count": 1,
   "metadata": {},
   "outputs": [],
   "source": [
    "from math import sqrt\n",
    "from pathlib import Path\n",
    "\n",
    "from matplotlib import pyplot as plt\n",
    "import numpy as np\n",
    "from scipy import stats\n",
    "\n",
    "from camfi.projectconfig import CamfiConfig\n",
    "from camfi.plotting.matplotlib import MatplotlibWingbeatFrequencyPlotter\n",
    "from camfi.wingbeat import BcesEM, GMM, WeightedGaussian"
   ]
  },
  {
   "cell_type": "markdown",
   "metadata": {},
   "source": [
    "To run `via_project.load_all_exif_metadata` and `wingbeat_extractor.extract_wingbeats()` below, you will first need to download the dataset `2019-11_cabramurra.zip` from the Zenodo repository. The link to the repository is here: https://doi.org/10.5281/zenodo.4950570.\n",
    "\n",
    "If you uncomment the code in the next three code cells, it is assumed you have extracted the images to `\"data/\"`. Of course you can extract it elsewhere and change `root` config variable accordingly.\n",
    "\n",
    "`\"data/cabramurra_all_annotations.json\"` already contains all the wingbeat data we need, so in this instance, we don't need to re-run the time-consuming metadata and wingbeat extraction code. Therefore, we don't need the image files.\n",
    "\n",
    "The next cell loads the annotations, and the location and time data used to correct the camera timestamps, which can often be out (either if the camera was set incorrectly, or if it just has an inaccurate clock... which is often the case for cheap cameras)."
   ]
  },
  {
   "cell_type": "code",
   "execution_count": 2,
   "metadata": {
    "scrolled": false
   },
   "outputs": [
    {
     "name": "stdout",
     "output_type": "stream",
     "text": [
      "{\n",
      "  \"root\": \"data\",\n",
      "  \"via_project_file\": \"data/cabramurra_all_annotations.json\",\n",
      "  \"day_zero\": \"2019-01-01\",\n",
      "  \"output_tz\": \"+10:00\",\n",
      "  \"filters\": {\n",
      "    \"image_filters\": {\n",
      "      \"min_annotations\": 1\n",
      "    }\n",
      "  },\n",
      "  \"camera\": {\n",
      "    \"camera_time_to_actual_time_ratio\": 1.0,\n",
      "    \"line_rate\": 90500.0\n",
      "  },\n",
      "  \"time\": {\n",
      "    \"camera_placements\": {\n",
      "      \"2019-11_cabramurra/0004\": {\n",
      "        \"camera_start_time\": \"2019-10-14T13:00:00+11:00\",\n",
      "        \"actual_start_time\": \"2019-11-14T13:00:00+11:00\",\n",
      "        \"location\": \"cabramurra\"\n",
      "      },\n",
      "      \"2019-11_cabramurra\": {\n",
      "        \"camera_start_time\": \"2019-11-14T13:00:00+11:00\",\n",
      "        \"location\": \"cabramurra\"\n",
      "      }\n",
      "    }\n",
      "  },\n",
      "  \"place\": {\n",
      "    \"locations\": [\n",
      "      {\n",
      "        \"name\": \"cabramurra\",\n",
      "        \"lat\": -35.9507,\n",
      "        \"lon\": 148.3972,\n",
      "        \"elevation_m\": 1513.9,\n",
      "        \"tz\": \"+10:00\"\n",
      "      }\n",
      "    ],\n",
      "    \"weather_stations\": [\n",
      "      {\n",
      "        \"location\": {\n",
      "          \"name\": \"cabramurra_smhea_aws_072161\",\n",
      "          \"lat\": -35.94,\n",
      "          \"lon\": 148.38,\n",
      "          \"elevation_m\": 1482.4,\n",
      "          \"tz\": \"+10:00\"\n",
      "        },\n",
      "        \"data_file\": \"data/cabramurra_bom_weather_201911.csv\"\n",
      "      }\n",
      "    ],\n",
      "    \"location_weather_station_mapping\": {\n",
      "      \"cabramurra\": \"cabramurra_smhea_aws_072161\"\n",
      "    }\n",
      "  },\n",
      "  \"wingbeat_extraction\": {\n",
      "    \"device\": \"cpu\",\n",
      "    \"scan_distance\": 50\n",
      "  },\n",
      "  \"annotator\": {\n",
      "    \"crop\": {\n",
      "      \"x0\": 0,\n",
      "      \"y0\": 0,\n",
      "      \"x1\": 4608,\n",
      "      \"y1\": 3312\n",
      "    },\n",
      "    \"training\": {\n",
      "      \"mask_maker\": {\n",
      "        \"shape\": [\n",
      "          3312,\n",
      "          4608\n",
      "        ],\n",
      "        \"mask_dilate\": 5\n",
      "      },\n",
      "      \"min_annotations\": 1,\n",
      "      \"max_annotations\": 50,\n",
      "      \"test_set_file\": \"data/cabramurra_test_set.txt\",\n",
      "      \"device\": \"cuda\",\n",
      "      \"batch_size\": 5,\n",
      "      \"num_workers\": 2,\n",
      "      \"num_epochs\": 15,\n",
      "      \"outdir\": \"data\",\n",
      "      \"save_intermediate\": true\n",
      "    },\n",
      "    \"inference\": {\n",
      "      \"output_path\": \"data/cabramurra_autoannotated.json\",\n",
      "      \"device\": \"cuda\",\n",
      "      \"backup_device\": \"cpu\",\n",
      "      \"score_thresh\": 0.0\n",
      "    },\n",
      "    \"validation\": {\n",
      "      \"autoannotated_via_project_file\": \"data/cabramurra_autoannotated.json\",\n",
      "      \"image_sets\": [\n",
      "        \"all\",\n",
      "        \"test\",\n",
      "        \"train\"\n",
      "      ],\n",
      "      \"output_dir\": \"data\"\n",
      "    }\n",
      "  }\n",
      "}\n"
     ]
    }
   ],
   "source": [
    "config_path = \"data/cabramurra_config.yml\"\n",
    "\n",
    "config = CamfiConfig.parse_yaml_file(config_path)\n",
    "\n",
    "# We can print out our config using config.json() or config.yaml()\n",
    "print(config.json(exclude_unset=True, indent=2))"
   ]
  },
  {
   "cell_type": "markdown",
   "metadata": {},
   "source": [
    "To get the timestamps for the images, we need to read the EXIF metadata from the image files. Here we also apply time correction. The code is commented out since the metadata has already been loaded into `\"data/cabramurra_all_annotations.json\"`, but if you are working with a different dataset, or would like to re-run IO intensive this step, uncomment the code."
   ]
  },
  {
   "cell_type": "code",
   "execution_count": 3,
   "metadata": {},
   "outputs": [],
   "source": [
    "# Uncomment if exif metadata hasn't been loaded already.\n",
    "# config.load_all_exif_metadata()"
   ]
  },
  {
   "cell_type": "markdown",
   "metadata": {},
   "source": [
    "After the EXIF metadata has been loaded, we can run the camfi algorithm to measure the wingbeat frequencies of moths seen in the images. Again, this has already been run and the data is included in `\"data/cabramurra_all_annotations.json\"`, so only uncomment if you have downloaded the image dataset and want to re-run (or you are running on your own dataset). This step may take a while to run.\n",
    "\n",
    "**Note:** This step can be accelerated using a GPU. If you have one on your system, consider setting `\"wingbeat_extraction\":{\"device\":\"cuda\",\"backup_device\":\"cpu\"}` in `data/cabramurra_config.json`."
   ]
  },
  {
   "cell_type": "code",
   "execution_count": 4,
   "metadata": {
    "scrolled": false
   },
   "outputs": [],
   "source": [
    "# Uncomment if wingbeat data hasn't been extracted already\n",
    "# config.extract_all_wingbeats()"
   ]
  },
  {
   "cell_type": "markdown",
   "metadata": {},
   "source": [
    "After running the above two steps, you might like to save the results to a new VIA project file. Uncommenting the following will save a new VIA project file to `\"data/all_annotations_with_wingbeats.json\"`."
   ]
  },
  {
   "cell_type": "code",
   "execution_count": 5,
   "metadata": {},
   "outputs": [],
   "source": [
    "# with open(\"data/all_annotations_with_wingbeats.json\", \"w\") as f:\n",
    "#     f.write(config.via_project.json(indent=2, exclude_unset=True))"
   ]
  },
  {
   "cell_type": "markdown",
   "metadata": {},
   "source": [
    "The `camfi.datamodel.via.ViaProject` class is useful for loading and validating files which are compatible with VIA, however for some analyses it is more convenient to have a Pandas DataFrame. The `to_region_dataframe` method of `camfi.datamodel.via.ViaProject` makes this conversion simple."
   ]
  },
  {
   "cell_type": "code",
   "execution_count": 6,
   "metadata": {},
   "outputs": [
    {
     "data": {
      "text/html": [
       "<div>\n",
       "<style scoped>\n",
       "    .dataframe tbody tr th:only-of-type {\n",
       "        vertical-align: middle;\n",
       "    }\n",
       "\n",
       "    .dataframe tbody tr th {\n",
       "        vertical-align: top;\n",
       "    }\n",
       "\n",
       "    .dataframe thead th {\n",
       "        text-align: right;\n",
       "    }\n",
       "</style>\n",
       "<table border=\"1\" class=\"dataframe\">\n",
       "  <thead>\n",
       "    <tr style=\"text-align: right;\">\n",
       "      <th></th>\n",
       "      <th>img_key</th>\n",
       "      <th>filename</th>\n",
       "      <th>name</th>\n",
       "      <th>datetime_corrected</th>\n",
       "      <th>datetime_original</th>\n",
       "      <th>exposure_time</th>\n",
       "      <th>location</th>\n",
       "      <th>pixel_x_dimension</th>\n",
       "      <th>pixel_y_dimension</th>\n",
       "      <th>score</th>\n",
       "      <th>best_peak</th>\n",
       "      <th>blur_length</th>\n",
       "      <th>snr</th>\n",
       "      <th>wb_freq_up</th>\n",
       "      <th>wb_freq_down</th>\n",
       "      <th>et_up</th>\n",
       "      <th>et_dn</th>\n",
       "    </tr>\n",
       "  </thead>\n",
       "  <tbody>\n",
       "    <tr>\n",
       "      <th>0</th>\n",
       "      <td>2019-11_cabramurra/0001/DSCF0009.JPG-1</td>\n",
       "      <td>2019-11_cabramurra/0001/DSCF0009.JPG</td>\n",
       "      <td>polyline</td>\n",
       "      <td>2019-11-14 20:20:26+11:00</td>\n",
       "      <td>2019-11-14 20:20:26</td>\n",
       "      <td>0.111111</td>\n",
       "      <td>cabramurra</td>\n",
       "      <td>4608</td>\n",
       "      <td>3456</td>\n",
       "      <td>None</td>\n",
       "      <td>111.0</td>\n",
       "      <td>536.292725</td>\n",
       "      <td>12.966407</td>\n",
       "      <td>44.505436</td>\n",
       "      <td>41.726944</td>\n",
       "      <td>0.107531</td>\n",
       "      <td>0.114691</td>\n",
       "    </tr>\n",
       "    <tr>\n",
       "      <th>1</th>\n",
       "      <td>2019-11_cabramurra/0001/DSCF0010.JPG-1</td>\n",
       "      <td>2019-11_cabramurra/0001/DSCF0010.JPG</td>\n",
       "      <td>polyline</td>\n",
       "      <td>2019-11-14 20:30:29+11:00</td>\n",
       "      <td>2019-11-14 20:30:29</td>\n",
       "      <td>0.111111</td>\n",
       "      <td>cabramurra</td>\n",
       "      <td>4608</td>\n",
       "      <td>3456</td>\n",
       "      <td>None</td>\n",
       "      <td>237.0</td>\n",
       "      <td>1008.291016</td>\n",
       "      <td>5.783094</td>\n",
       "      <td>40.686996</td>\n",
       "      <td>35.853527</td>\n",
       "      <td>0.104095</td>\n",
       "      <td>0.118128</td>\n",
       "    </tr>\n",
       "    <tr>\n",
       "      <th>2</th>\n",
       "      <td>2019-11_cabramurra/0001/DSCF0010.JPG-1</td>\n",
       "      <td>2019-11_cabramurra/0001/DSCF0010.JPG</td>\n",
       "      <td>polyline</td>\n",
       "      <td>2019-11-14 20:30:29+11:00</td>\n",
       "      <td>2019-11-14 20:30:29</td>\n",
       "      <td>0.111111</td>\n",
       "      <td>cabramurra</td>\n",
       "      <td>4608</td>\n",
       "      <td>3456</td>\n",
       "      <td>None</td>\n",
       "      <td>165.0</td>\n",
       "      <td>675.603577</td>\n",
       "      <td>21.689453</td>\n",
       "      <td>36.698574</td>\n",
       "      <td>36.494766</td>\n",
       "      <td>0.110802</td>\n",
       "      <td>0.111421</td>\n",
       "    </tr>\n",
       "    <tr>\n",
       "      <th>3</th>\n",
       "      <td>2019-11_cabramurra/0001/DSCF0010.JPG-1</td>\n",
       "      <td>2019-11_cabramurra/0001/DSCF0010.JPG</td>\n",
       "      <td>polyline</td>\n",
       "      <td>2019-11-14 20:30:29+11:00</td>\n",
       "      <td>2019-11-14 20:30:29</td>\n",
       "      <td>0.111111</td>\n",
       "      <td>cabramurra</td>\n",
       "      <td>4608</td>\n",
       "      <td>3456</td>\n",
       "      <td>None</td>\n",
       "      <td>116.0</td>\n",
       "      <td>660.467407</td>\n",
       "      <td>6.046125</td>\n",
       "      <td>51.069618</td>\n",
       "      <td>50.624634</td>\n",
       "      <td>0.110625</td>\n",
       "      <td>0.111597</td>\n",
       "    </tr>\n",
       "    <tr>\n",
       "      <th>4</th>\n",
       "      <td>2019-11_cabramurra/0001/DSCF0010.JPG-1</td>\n",
       "      <td>2019-11_cabramurra/0001/DSCF0010.JPG</td>\n",
       "      <td>circle</td>\n",
       "      <td>2019-11-14 20:30:29+11:00</td>\n",
       "      <td>2019-11-14 20:30:29</td>\n",
       "      <td>0.111111</td>\n",
       "      <td>cabramurra</td>\n",
       "      <td>4608</td>\n",
       "      <td>3456</td>\n",
       "      <td>None</td>\n",
       "      <td>NaN</td>\n",
       "      <td>NaN</td>\n",
       "      <td>NaN</td>\n",
       "      <td>NaN</td>\n",
       "      <td>NaN</td>\n",
       "      <td>NaN</td>\n",
       "      <td>NaN</td>\n",
       "    </tr>\n",
       "    <tr>\n",
       "      <th>...</th>\n",
       "      <td>...</td>\n",
       "      <td>...</td>\n",
       "      <td>...</td>\n",
       "      <td>...</td>\n",
       "      <td>...</td>\n",
       "      <td>...</td>\n",
       "      <td>...</td>\n",
       "      <td>...</td>\n",
       "      <td>...</td>\n",
       "      <td>...</td>\n",
       "      <td>...</td>\n",
       "      <td>...</td>\n",
       "      <td>...</td>\n",
       "      <td>...</td>\n",
       "      <td>...</td>\n",
       "      <td>...</td>\n",
       "      <td>...</td>\n",
       "    </tr>\n",
       "    <tr>\n",
       "      <th>1414</th>\n",
       "      <td>2019-11_cabramurra/0010/DSCF0747.JPG-1</td>\n",
       "      <td>2019-11_cabramurra/0010/DSCF0747.JPG</td>\n",
       "      <td>point</td>\n",
       "      <td>2019-11-24 23:21:23+11:00</td>\n",
       "      <td>2019-11-24 23:21:23</td>\n",
       "      <td>0.100000</td>\n",
       "      <td>cabramurra</td>\n",
       "      <td>4608</td>\n",
       "      <td>3456</td>\n",
       "      <td>None</td>\n",
       "      <td>NaN</td>\n",
       "      <td>NaN</td>\n",
       "      <td>NaN</td>\n",
       "      <td>NaN</td>\n",
       "      <td>NaN</td>\n",
       "      <td>NaN</td>\n",
       "      <td>NaN</td>\n",
       "    </tr>\n",
       "    <tr>\n",
       "      <th>1415</th>\n",
       "      <td>2019-11_cabramurra/0010/DSCF0777.JPG-1</td>\n",
       "      <td>2019-11_cabramurra/0010/DSCF0777.JPG</td>\n",
       "      <td>polyline</td>\n",
       "      <td>2019-11-25 04:22:54+11:00</td>\n",
       "      <td>2019-11-25 04:22:54</td>\n",
       "      <td>0.100000</td>\n",
       "      <td>cabramurra</td>\n",
       "      <td>4608</td>\n",
       "      <td>3456</td>\n",
       "      <td>None</td>\n",
       "      <td>107.0</td>\n",
       "      <td>520.138428</td>\n",
       "      <td>11.467738</td>\n",
       "      <td>48.212074</td>\n",
       "      <td>48.084389</td>\n",
       "      <td>0.099867</td>\n",
       "      <td>0.100133</td>\n",
       "    </tr>\n",
       "    <tr>\n",
       "      <th>1416</th>\n",
       "      <td>2019-11_cabramurra/0010/DSCF0779.JPG-1</td>\n",
       "      <td>2019-11_cabramurra/0010/DSCF0779.JPG</td>\n",
       "      <td>polyline</td>\n",
       "      <td>2019-11-25 04:43:00+11:00</td>\n",
       "      <td>2019-11-25 04:43:00</td>\n",
       "      <td>0.100000</td>\n",
       "      <td>cabramurra</td>\n",
       "      <td>4608</td>\n",
       "      <td>3456</td>\n",
       "      <td>None</td>\n",
       "      <td>82.0</td>\n",
       "      <td>389.173492</td>\n",
       "      <td>3.202193</td>\n",
       "      <td>47.306557</td>\n",
       "      <td>46.436455</td>\n",
       "      <td>0.099072</td>\n",
       "      <td>0.100928</td>\n",
       "    </tr>\n",
       "    <tr>\n",
       "      <th>1417</th>\n",
       "      <td>2019-11_cabramurra/0010/DSCF0780.JPG-1</td>\n",
       "      <td>2019-11_cabramurra/0010/DSCF0780.JPG</td>\n",
       "      <td>polyline</td>\n",
       "      <td>2019-11-25 04:53:04+11:00</td>\n",
       "      <td>2019-11-25 04:53:04</td>\n",
       "      <td>0.100000</td>\n",
       "      <td>cabramurra</td>\n",
       "      <td>4608</td>\n",
       "      <td>3456</td>\n",
       "      <td>None</td>\n",
       "      <td>129.0</td>\n",
       "      <td>591.514160</td>\n",
       "      <td>5.017477</td>\n",
       "      <td>46.047268</td>\n",
       "      <td>45.040775</td>\n",
       "      <td>0.098895</td>\n",
       "      <td>0.101105</td>\n",
       "    </tr>\n",
       "    <tr>\n",
       "      <th>1418</th>\n",
       "      <td>2019-11_cabramurra/0010/DSCF0851.JPG-1</td>\n",
       "      <td>2019-11_cabramurra/0010/DSCF0851.JPG</td>\n",
       "      <td>point</td>\n",
       "      <td>2019-11-26 04:43:00+11:00</td>\n",
       "      <td>2019-11-26 04:43:00</td>\n",
       "      <td>0.100000</td>\n",
       "      <td>cabramurra</td>\n",
       "      <td>4608</td>\n",
       "      <td>3456</td>\n",
       "      <td>None</td>\n",
       "      <td>NaN</td>\n",
       "      <td>NaN</td>\n",
       "      <td>NaN</td>\n",
       "      <td>NaN</td>\n",
       "      <td>NaN</td>\n",
       "      <td>NaN</td>\n",
       "      <td>NaN</td>\n",
       "    </tr>\n",
       "  </tbody>\n",
       "</table>\n",
       "<p>1419 rows × 17 columns</p>\n",
       "</div>"
      ],
      "text/plain": [
       "                                     img_key  \\\n",
       "0     2019-11_cabramurra/0001/DSCF0009.JPG-1   \n",
       "1     2019-11_cabramurra/0001/DSCF0010.JPG-1   \n",
       "2     2019-11_cabramurra/0001/DSCF0010.JPG-1   \n",
       "3     2019-11_cabramurra/0001/DSCF0010.JPG-1   \n",
       "4     2019-11_cabramurra/0001/DSCF0010.JPG-1   \n",
       "...                                      ...   \n",
       "1414  2019-11_cabramurra/0010/DSCF0747.JPG-1   \n",
       "1415  2019-11_cabramurra/0010/DSCF0777.JPG-1   \n",
       "1416  2019-11_cabramurra/0010/DSCF0779.JPG-1   \n",
       "1417  2019-11_cabramurra/0010/DSCF0780.JPG-1   \n",
       "1418  2019-11_cabramurra/0010/DSCF0851.JPG-1   \n",
       "\n",
       "                                  filename      name  \\\n",
       "0     2019-11_cabramurra/0001/DSCF0009.JPG  polyline   \n",
       "1     2019-11_cabramurra/0001/DSCF0010.JPG  polyline   \n",
       "2     2019-11_cabramurra/0001/DSCF0010.JPG  polyline   \n",
       "3     2019-11_cabramurra/0001/DSCF0010.JPG  polyline   \n",
       "4     2019-11_cabramurra/0001/DSCF0010.JPG    circle   \n",
       "...                                    ...       ...   \n",
       "1414  2019-11_cabramurra/0010/DSCF0747.JPG     point   \n",
       "1415  2019-11_cabramurra/0010/DSCF0777.JPG  polyline   \n",
       "1416  2019-11_cabramurra/0010/DSCF0779.JPG  polyline   \n",
       "1417  2019-11_cabramurra/0010/DSCF0780.JPG  polyline   \n",
       "1418  2019-11_cabramurra/0010/DSCF0851.JPG     point   \n",
       "\n",
       "            datetime_corrected   datetime_original  exposure_time    location  \\\n",
       "0    2019-11-14 20:20:26+11:00 2019-11-14 20:20:26       0.111111  cabramurra   \n",
       "1    2019-11-14 20:30:29+11:00 2019-11-14 20:30:29       0.111111  cabramurra   \n",
       "2    2019-11-14 20:30:29+11:00 2019-11-14 20:30:29       0.111111  cabramurra   \n",
       "3    2019-11-14 20:30:29+11:00 2019-11-14 20:30:29       0.111111  cabramurra   \n",
       "4    2019-11-14 20:30:29+11:00 2019-11-14 20:30:29       0.111111  cabramurra   \n",
       "...                        ...                 ...            ...         ...   \n",
       "1414 2019-11-24 23:21:23+11:00 2019-11-24 23:21:23       0.100000  cabramurra   \n",
       "1415 2019-11-25 04:22:54+11:00 2019-11-25 04:22:54       0.100000  cabramurra   \n",
       "1416 2019-11-25 04:43:00+11:00 2019-11-25 04:43:00       0.100000  cabramurra   \n",
       "1417 2019-11-25 04:53:04+11:00 2019-11-25 04:53:04       0.100000  cabramurra   \n",
       "1418 2019-11-26 04:43:00+11:00 2019-11-26 04:43:00       0.100000  cabramurra   \n",
       "\n",
       "      pixel_x_dimension  pixel_y_dimension score  best_peak  blur_length  \\\n",
       "0                  4608               3456  None      111.0   536.292725   \n",
       "1                  4608               3456  None      237.0  1008.291016   \n",
       "2                  4608               3456  None      165.0   675.603577   \n",
       "3                  4608               3456  None      116.0   660.467407   \n",
       "4                  4608               3456  None        NaN          NaN   \n",
       "...                 ...                ...   ...        ...          ...   \n",
       "1414               4608               3456  None        NaN          NaN   \n",
       "1415               4608               3456  None      107.0   520.138428   \n",
       "1416               4608               3456  None       82.0   389.173492   \n",
       "1417               4608               3456  None      129.0   591.514160   \n",
       "1418               4608               3456  None        NaN          NaN   \n",
       "\n",
       "            snr  wb_freq_up  wb_freq_down     et_up     et_dn  \n",
       "0     12.966407   44.505436     41.726944  0.107531  0.114691  \n",
       "1      5.783094   40.686996     35.853527  0.104095  0.118128  \n",
       "2     21.689453   36.698574     36.494766  0.110802  0.111421  \n",
       "3      6.046125   51.069618     50.624634  0.110625  0.111597  \n",
       "4           NaN         NaN           NaN       NaN       NaN  \n",
       "...         ...         ...           ...       ...       ...  \n",
       "1414        NaN         NaN           NaN       NaN       NaN  \n",
       "1415  11.467738   48.212074     48.084389  0.099867  0.100133  \n",
       "1416   3.202193   47.306557     46.436455  0.099072  0.100928  \n",
       "1417   5.017477   46.047268     45.040775  0.098895  0.101105  \n",
       "1418        NaN         NaN           NaN       NaN       NaN  \n",
       "\n",
       "[1419 rows x 17 columns]"
      ]
     },
     "execution_count": 6,
     "metadata": {},
     "output_type": "execute_result"
    }
   ],
   "source": [
    "regions = config.via_project.to_region_dataframe()\n",
    "regions"
   ]
  },
  {
   "cell_type": "markdown",
   "metadata": {},
   "source": [
    "Next we want proceed with just polyline annotations (as these are the only type which enable wingbeat measurement), and we also want to filter the data by an SNR threshold."
   ]
  },
  {
   "cell_type": "code",
   "execution_count": 7,
   "metadata": {},
   "outputs": [
    {
     "data": {
      "text/plain": [
       "580"
      ]
     },
     "execution_count": 7,
     "metadata": {},
     "output_type": "execute_result"
    }
   ],
   "source": [
    "snr_thresh = 4.0\n",
    "polyline_regions = regions[regions[\"name\"] == \"polyline\"]\n",
    "above_thresh = polyline_regions[polyline_regions[\"snr\"] >= snr_thresh]\n",
    "len(above_thresh)"
   ]
  },
  {
   "cell_type": "markdown",
   "metadata": {},
   "source": [
    "We can already visualise the data, with the SNR threshold indicated by a red line."
   ]
  },
  {
   "cell_type": "code",
   "execution_count": 8,
   "metadata": {
    "scrolled": false
   },
   "outputs": [
    {
     "data": {
      "image/png": "[encoded data removed]",
      "text/plain": [
       "<Figure size 540x374.4 with 4 Axes>"
      ]
     },
     "metadata": {
      "needs_background": "light"
     },
     "output_type": "display_data"
    }
   ],
   "source": [
    "plotter = MatplotlibWingbeatFrequencyPlotter(\n",
    "    polyline_regions=polyline_regions,\n",
    "    snr_thresh=snr_thresh,\n",
    ")\n",
    "fig = plotter.plot()"
   ]
  },
  {
   "cell_type": "markdown",
   "metadata": {},
   "source": [
    "## With zero bodylength assumption"
   ]
  },
  {
   "cell_type": "markdown",
   "metadata": {},
   "source": [
    "Based on the above plots, we now wish to select a number of target classes. This will be used for fitting a Gaussian mixture-model to the preliminary winbeat frequencies (which assume zero bodylength), and for classification in the linear regression step for the unbiased estimate of wingbeat frequency."
   ]
  },
  {
   "cell_type": "code",
   "execution_count": 9,
   "metadata": {},
   "outputs": [],
   "source": [
    "n_classes = 2"
   ]
  },
  {
   "cell_type": "markdown",
   "metadata": {},
   "source": [
    "Operating on the preliminary wingbeat data (figure a), we can fit a Gaussian mixture-model."
   ]
  },
  {
   "cell_type": "code",
   "execution_count": 10,
   "metadata": {},
   "outputs": [
    {
     "name": "stdout",
     "output_type": "stream",
     "text": [
      "log10 Gaussian Mixture Model parameters:\n",
      "mean=1.3968704095248994 std=0.0755076055338635 weight=0.14025772662404282\n",
      "mean=1.6913164856912772 std=0.07106824294152196 weight=0.8597422733759577\n"
     ]
    }
   ],
   "source": [
    "gmm = GMM.log10_from_region_dataframe(\n",
    "    above_thresh,\n",
    "    n_classes,\n",
    "    seed=1234567890  # Not reuired to set, but makes the results\n",
    "                     # reproducible\n",
    ")\n",
    "gmm_results = sorted(gmm.fit())  # Order of classes is random, so we sort\n",
    "                                 # to make it predictable.\n",
    "\n",
    "print(\"log10 Gaussian Mixture Model parameters:\")\n",
    "print(\"\\n\".join(str(r) for r in gmm_results))"
   ]
  },
  {
   "cell_type": "markdown",
   "metadata": {},
   "source": [
    "To get mean and standard deviation in Hz, we need to re-parametrise."
   ]
  },
  {
   "cell_type": "code",
   "execution_count": 11,
   "metadata": {},
   "outputs": [
    {
     "name": "stdout",
     "output_type": "stream",
     "text": [
      "μ = 25.102738892471677 Hz  σ = 2.8856693084544567  weight = 0.14025772662404282\n",
      "μ = 49.41306955900124 Hz  σ = 5.34427937939624  weight = 0.8597422733759577\n"
     ]
    }
   ],
   "source": [
    "for weighted_gaussian in gmm_results:\n",
    "    mean_hz, std_hz = weighted_gaussian.get_natural_params_from_log(10.0)\n",
    "    print(f\"μ = {mean_hz} Hz  σ = {std_hz}  weight = {weighted_gaussian.weight}\")"
   ]
  },
  {
   "cell_type": "markdown",
   "metadata": {},
   "source": [
    "The estimate of standard deviation includes the measurement error associated with exposure time ambiguity. Here we will attempt to make an estimate of the underlying wingbeat frequency standard deviation.\n",
    "\n",
    "First, we need to check that measurement error is not correlated with log10(wingbeat frequency)"
   ]
  },
  {
   "cell_type": "code",
   "execution_count": 12,
   "metadata": {},
   "outputs": [],
   "source": [
    "log10_means = (np.log10(above_thresh.wb_freq_down) + np.log10(above_thresh.wb_freq_up)) / 2\n",
    "log10_errors = log10_means - np.log10(above_thresh.wb_freq_down)\n",
    "\n",
    "densities = np.stack([stats.norm.pdf(log10_means, loc=r.mean, scale=r.std) for r in gmm_results])\n",
    "gmm_classification_prediction = densities.argmax(axis=0)"
   ]
  },
  {
   "cell_type": "code",
   "execution_count": 13,
   "metadata": {},
   "outputs": [
    {
     "name": "stdout",
     "output_type": "stream",
     "text": [
      "class 0:  r = 0.1120666137470634  p(|R| >= |r|) = 0.3042812058830173\n",
      "class 1:  r = 0.10711341709033767  p(|R| >= |r|) = 0.017240476736024066\n"
     ]
    },
    {
     "data": {
      "image/png": "[encoded data removed]",
      "text/plain": [
       "<Figure size 432x288 with 1 Axes>"
      ]
     },
     "metadata": {
      "needs_background": "light"
     },
     "output_type": "display_data"
    }
   ],
   "source": [
    "fig = plt.figure()\n",
    "ax = fig.add_subplot(\n",
    "    111,\n",
    "    xlabel=\"log10(wingbeat frequency)\",\n",
    "    ylabel=\"Direction ambiguity measurement error\",\n",
    ")\n",
    "ax.scatter(\n",
    "    log10_means,\n",
    "    log10_errors,\n",
    "    marker=\"x\",\n",
    "    c=np.array([\"tab:blue\", \"tab:green\"])[gmm_classification_prediction],\n",
    ")\n",
    "\n",
    "for i in range(n_classes):\n",
    "    class_mask = gmm_classification_prediction == i\n",
    "    r, p = stats.pearsonr(log10_means[class_mask], log10_errors[class_mask])\n",
    "    print(f\"class {i}:  r = {r}  p(|R| >= |r|) = {p}\")"
   ]
  },
  {
   "cell_type": "markdown",
   "metadata": {},
   "source": [
    "It appears that measurement error is not correlated to measurement value, so we can proceed using the relation\n",
    "\n",
    "$$ Var(X + Y) = Var(X) + Var(Y) $$"
   ]
  },
  {
   "cell_type": "code",
   "execution_count": 14,
   "metadata": {},
   "outputs": [
    {
     "name": "stdout",
     "output_type": "stream",
     "text": [
      "μ = 25.101781030581876 Hz  σ = 2.8771046444652533  weight = 0.14025772662404282\n",
      "μ = 49.403384640368735 Hz  σ = 5.25188370862169  weight = 0.8597422733759577\n"
     ]
    }
   ],
   "source": [
    "log10_wingbeat_gaussians = []\n",
    "\n",
    "for i in range(n_classes):\n",
    "    class_mask = gmm_classification_prediction == i\n",
    "    error_var = np.var(log10_errors[class_mask], ddof=1)\n",
    "    log10_wingbeat_var = gmm_results[i].std ** 2 - error_var\n",
    "    log10_wingbeat_gaussians.append(\n",
    "        WeightedGaussian(\n",
    "            mean=gmm_results[i].mean,\n",
    "            std=np.sqrt(log10_wingbeat_var),\n",
    "            weight=gmm_results[i].weight,\n",
    "        )\n",
    "    )\n",
    "    \n",
    "for weighted_gaussian in log10_wingbeat_gaussians:\n",
    "    mean_hz, std_hz = weighted_gaussian.get_natural_params_from_log(10.0)\n",
    "    print(f\"μ = {mean_hz} Hz  σ = {std_hz}  weight = {weighted_gaussian.weight}\")"
   ]
  },
  {
   "cell_type": "markdown",
   "metadata": {},
   "source": [
    "We can set the `gmm_results` parameter to plot the figure with the Gaussian mixture model shown."
   ]
  },
  {
   "cell_type": "code",
   "execution_count": 15,
   "metadata": {},
   "outputs": [
    {
     "data": {
      "image/png": "[encoded data removed]",
      "text/plain": [
       "<Figure size 540x374.4 with 4 Axes>"
      ]
     },
     "metadata": {
      "needs_background": "light"
     },
     "output_type": "display_data"
    }
   ],
   "source": [
    "plotter = MatplotlibWingbeatFrequencyPlotter(\n",
    "    polyline_regions=polyline_regions,\n",
    "    snr_thresh=snr_thresh,\n",
    "    gmm_results=gmm_results,\n",
    ")\n",
    "fig = plotter.plot()"
   ]
  },
  {
   "cell_type": "markdown",
   "metadata": {},
   "source": [
    "## Without zero bodylength assumption"
   ]
  },
  {
   "cell_type": "markdown",
   "metadata": {},
   "source": [
    "Now we use an EM algorithm to classify the data using BCES regressions of $L$ vs. $P \\Delta t$."
   ]
  },
  {
   "cell_type": "code",
   "execution_count": 16,
   "metadata": {
    "scrolled": false
   },
   "outputs": [],
   "source": [
    "bces_em = BcesEM.from_region_dataframe(\n",
    "    above_thresh, n_classes, seed=1234567890\n",
    ")\n",
    "bces_results = bces_em.fit()"
   ]
  },
  {
   "cell_type": "markdown",
   "metadata": {},
   "source": [
    "The order of the classes is random, so we sort to make them predictable (and line up better with the sorted classes from the GMM). This will make colouring comparable across the two models. Unfortunately we can't *just* sort `bces_results`, because then the colours of the scatter plot wouldn't be guaranteed to match the regression lines. We have to also re-map the `bces_em.class_mask` values.\n",
    "\n",
    "This can do this re-mapping with some indexing trickery using `np.argsort`, and then we can sort `bces_results` the normal way."
   ]
  },
  {
   "cell_type": "code",
   "execution_count": 17,
   "metadata": {},
   "outputs": [
    {
     "name": "stdout",
     "output_type": "stream",
     "text": [
      "Classifications:\n",
      "75\n",
      "505\n",
      "Multiple BCES linear regression parameters:\n",
      "gradient=23.684945219639722 y_intercept=21.164640791557133 gradient_stderr=1.8436575083709323 y_intercept_stderr=30.356672106881156 cov_xy=-54.37303718722761\n",
      "gradient=48.648490469072115 y_intercept=30.410128999818426 gradient_stderr=1.4469572965456388 y_intercept_stderr=18.927271182452444 cov_xy=-26.431054889875146\n"
     ]
    }
   ],
   "source": [
    "inverse_index = np.argsort(np.argsort(bces_results))\n",
    "class_mask = inverse_index[bces_em.class_mask]\n",
    "class_n = np.bincount(class_mask)\n",
    "bces_results = sorted(bces_results)\n",
    "\n",
    "print(\"Classifications:\")\n",
    "print(\"\\n\".join(str(n) for n in class_n))\n",
    "print(\"Multiple BCES linear regression parameters:\")\n",
    "print(\"\\n\".join(str(b) for b in bces_results))"
   ]
  },
  {
   "cell_type": "markdown",
   "metadata": {},
   "source": [
    "### Testing zero bodylength assumption\n",
    "\n",
    "We can test the zero body-length assumption by calculating the t-statistic of the intercept of the linear regression\n",
    "\n",
    "$$ t = \\frac{\\hat{\\beta_0} - 0}{SE(\\hat{\\beta_0})} $$\n",
    "\n",
    "where $\\hat{\\beta_0}$ is the estimate of the intercept.\n",
    "We then can test the following hypotheses:\n",
    "\n",
    "$$ H_0 : \\quad \\hat{\\beta_0} = 0 , $$\n",
    "$$ H_1 : \\quad \\hat{\\beta_0} > 0 . $$\n",
    "\n",
    "We perform a one-sided test, since negative bodylength does not make physical sense (so there is no need for a two-sided test). Note that this is also more conservative, since a higher-powered test is more likely to reject $H_0$, which would force us to reject the zero body-length assumption."
   ]
  },
  {
   "cell_type": "code",
   "execution_count": 18,
   "metadata": {},
   "outputs": [
    {
     "name": "stdout",
     "output_type": "stream",
     "text": [
      "[0.69719898 1.60668322]\n",
      "[0.24394638 0.05437571]\n"
     ]
    }
   ],
   "source": [
    "t_values = np.array([estimates.y_intercept / estimates.y_intercept_stderr for estimates in bces_results])\n",
    "dfs = class_n - 2  # Two estimators per linear regression\n",
    "p_values = stats.t.sf(t_values, dfs)\n",
    "print(t_values)\n",
    "print(p_values)"
   ]
  },
  {
   "cell_type": "markdown",
   "metadata": {},
   "source": [
    "We see that for both regressions, we have insufficient evidence to reject the zero body-length assumption ($p > 0.05$).\n",
    "It is therefore reasonable to use the estimates given by the GMM approach."
   ]
  },
  {
   "cell_type": "code",
   "execution_count": 19,
   "metadata": {},
   "outputs": [
    {
     "name": "stdout",
     "output_type": "stream",
     "text": [
      "μ = 25.101781030581876 Hz  σ = 2.8771046444652533  weight = 0.14025772662404282\n",
      "μ = 49.403384640368735 Hz  σ = 5.25188370862169  weight = 0.8597422733759577\n"
     ]
    }
   ],
   "source": [
    "for weighted_gaussian in log10_wingbeat_gaussians:\n",
    "    mean_hz, std_hz = weighted_gaussian.get_natural_params_from_log(10.0)\n",
    "    print(f\"μ = {mean_hz} Hz  σ = {std_hz}  weight = {weighted_gaussian.weight}\")"
   ]
  },
  {
   "cell_type": "markdown",
   "metadata": {},
   "source": [
    "Finally, we reproduce the figure from the publication, which includes both the GMM and EM classification"
   ]
  },
  {
   "cell_type": "code",
   "execution_count": 20,
   "metadata": {},
   "outputs": [
    {
     "data": {
      "image/png": "[encoded data removed]",
      "text/plain": [
       "<Figure size 540x374.4 with 4 Axes>"
      ]
     },
     "metadata": {
      "needs_background": "light"
     },
     "output_type": "display_data"
    }
   ],
   "source": [
    "plotter = MatplotlibWingbeatFrequencyPlotter(\n",
    "    polyline_regions=polyline_regions,\n",
    "    snr_thresh=snr_thresh,          # Must be the same threshold used to\n",
    "                                    # make the class_mask.\n",
    "    class_mask=class_mask,          # Adds colour to the measurements\n",
    "    gmm_results=gmm_results,        # Include the GMM plots\n",
    "    bces_results=bces_results,      # Include the BCES regression lines\n",
    ")\n",
    "fig = plotter.plot()"
   ]
  },
  {
   "cell_type": "markdown",
   "metadata": {},
   "source": [
    "`fig` is just a matplotlib `Figure` instance, so we can save it quite easily."
   ]
  },
  {
   "cell_type": "code",
   "execution_count": 21,
   "metadata": {},
   "outputs": [],
   "source": [
    "fig.savefig(\"wingbeat_frequency_figure.pdf\", dpi=600.0, pad_inches=0.0)"
   ]
  }
 ],
 "metadata": {
  "kernelspec": {
   "display_name": "Python 3 (ipykernel)",
   "language": "python",
   "name": "python3"
  },
  "language_info": {
   "codemirror_mode": {
    "name": "ipython",
    "version": 3
   },
   "file_extension": ".py",
   "mimetype": "text/x-python",
   "name": "python",
   "nbconvert_exporter": "python",
   "pygments_lexer": "ipython3",
   "version": "3.9.6"
  }
 },
 "nbformat": 4,
 "nbformat_minor": 2
}
