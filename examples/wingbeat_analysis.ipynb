{
 "cells": [
  {
   "cell_type": "markdown",
   "metadata": {},
   "source": [
    "# Wingbeat analysis\n",
    "This notebook demonstrates how to analyse wingbeat data output from camfi.\n",
    "\n",
    "First, load the required libraries."
   ]
  },
  {
   "cell_type": "code",
   "execution_count": 1,
   "metadata": {},
   "outputs": [],
   "source": [
    "import math\n",
    "\n",
    "from bces import bces\n",
    "import matplotlib as mpl\n",
    "from matplotlib import pyplot as plt\n",
    "import numpy as np\n",
    "from numpy.random import default_rng\n",
    "from scipy.stats import norm\n",
    "from sklearn.mixture import GaussianMixture"
   ]
  },
  {
   "cell_type": "markdown",
   "metadata": {},
   "source": [
    "\n",
    "\n",
    "Next, load the wingbeat frequency data. It is in a tab-separated format with the following columns:\n",
    "\n",
    "1. `image_name` : relative path to image\n",
    "2. `capture_time` : datetime in yyyy-mm-dd HH:MM:SS format\n",
    "3. `annotation_idx` : index of annotation in image (arbitrary)\n",
    "4. `best_peak` : period of wingbeat in pixels\n",
    "5. `blur_length` : length of motion blur in pixels\n",
    "6. `snr` : signal to noise ratio of best peak\n",
    "7. `wb_freq_up` : wingbeat frequency estimate, assuming upward motion (and zero body-length)\n",
    "8. `wb_freq_down` : wingbeat frequency estimate, assuming downward motion (and zero body-length)\n",
    "9. `et_up` : corrected moth exposure time, assuming upward motion\n",
    "10. `et_dn` : corrected moth exposure time, assuming downward motion\n",
    "11. `period_up` : wingbeat period, assuming upward motion (and zero body-length)\n",
    "12. `period_dn` : wingbeat period, assuming downward motion (and zero body-length)\n",
    "13. `spec_dens` : comma separated values, with the spectral density array associated with the annotation\n",
    "\n",
    "For the purposes of this notebook, we are particularly interested in wingbeat frequency, so we will only load the relevant columns. For other analyses you may want to load additional columns such as `capture_time` etc."
   ]
  },
  {
   "cell_type": "code",
   "execution_count": 2,
   "metadata": {},
   "outputs": [],
   "source": [
    "data_path = \"data/cabramurra_wingbeats.csv.bz2\"\n",
    "\n",
    "data = np.loadtxt(\n",
    "    data_path,\n",
    "    dtype=[\n",
    "        ('best_peak', 'u2'),\n",
    "        ('blur_length', 'u2'),\n",
    "        ('snr', 'f8'),\n",
    "        ('wb_freq_up', 'f8'),\n",
    "        ('wb_freq_dn', 'f8'),\n",
    "        ('et_up', 'f8'),\n",
    "        ('et_dn', 'f8')\n",
    "    ],\n",
    "    usecols=(3, 4, 5, 6, 7, 8, 9),\n",
    "    delimiter='\\t',\n",
    "    skiprows=1,\n",
    ")"
   ]
  },
  {
   "cell_type": "markdown",
   "metadata": {},
   "source": [
    "Next we want to filter the data by SNR."
   ]
  },
  {
   "cell_type": "code",
   "execution_count": 3,
   "metadata": {},
   "outputs": [],
   "source": [
    "snr_thresh = 4.0"
   ]
  },
  {
   "cell_type": "markdown",
   "metadata": {},
   "source": [
    "Visualising the data, with the SNR threshold indicated:"
   ]
  },
  {
   "cell_type": "code",
   "execution_count": 56,
   "metadata": {
    "scrolled": false
   },
   "outputs": [
    {
     "data": {
      "image/png": "[encoded data removed]",
      "text/plain": [
       "<Figure size 540x374.4 with 4 Axes>"
      ]
     },
     "metadata": {
      "needs_background": "light"
     },
     "output_type": "display_data"
    }
   ],
   "source": [
    "filtered_data = data[data['snr'] >= snr_thresh]\n",
    "\n",
    "# Setting up the figure with multiple subfigures\n",
    "left, width = 0.1, 0.4\n",
    "bottom, height = 0.1, 0.4\n",
    "hist_height = 0.2\n",
    "spacing = 0\n",
    "spacing_regression = -0.12\n",
    "\n",
    "rect_scatter = [left, bottom, width, height]\n",
    "rect_histx = [left, bottom + height + spacing, width, hist_height]\n",
    "rect_histy = [left + width + spacing, bottom, hist_height, height]\n",
    "rect_regression = [\n",
    "    left + width + spacing_regression,\n",
    "    bottom + height + spacing_regression,\n",
    "    1. - left - width - spacing_regression,\n",
    "    1. - bottom - height - spacing_regression,\n",
    "]\n",
    "\n",
    "fig = plt.figure(\n",
    "    figsize=(7.5, 5.2),\n",
    "    #dpi=1000.0,\n",
    ")\n",
    "\n",
    "# Plotting preliminary wingbeat frequency data with marginal distributions\n",
    "ax = fig.add_axes(\n",
    "    rect_scatter,\n",
    "    xlabel=\"Preliminary wingbeat frequency (s⁻¹)\",\n",
    "    ylabel=\"SNR\",\n",
    "    xscale=\"log\",\n",
    ")\n",
    "# Plot above-threshold data\n",
    "ax.plot(\n",
    "    np.stack((\n",
    "        data['wb_freq_dn'][data['snr'] >= snr_thresh],\n",
    "        data['wb_freq_up'][data['snr'] >= snr_thresh],\n",
    "    )),\n",
    "    np.broadcast_to(\n",
    "        data['snr'][data['snr'] >= snr_thresh],\n",
    "        (2,) + data[data['snr'] >= snr_thresh].shape,\n",
    "    ),\n",
    "    c=\"k\",\n",
    "    alpha=0.5,\n",
    "    lw=1,\n",
    ")\n",
    "# Plot below-threshold data\n",
    "ax.plot(\n",
    "    np.stack((\n",
    "        data['wb_freq_dn'][data['snr'] < snr_thresh],\n",
    "        data['wb_freq_up'][data['snr'] < snr_thresh],\n",
    "    )),\n",
    "    np.broadcast_to(\n",
    "        data['snr'][data['snr'] < snr_thresh],\n",
    "        (2,) + data[data['snr'] < snr_thresh].shape,\n",
    "    ),\n",
    "    c=\"grey\",\n",
    "    alpha=0.5,\n",
    "    lw=1,\n",
    ")\n",
    "    \n",
    "ax.axhline(snr_thresh, c=\"r\", zorder=0, label=\"SNR Threshold\")\n",
    "\n",
    "# Plotting marginals\n",
    "ax_histx = fig.add_axes(rect_histx, sharex=ax)\n",
    "ax_histy = fig.add_axes(rect_histy, sharey=ax)\n",
    "\n",
    "# no labels\n",
    "ax_histx.axis(\"off\")\n",
    "ax_histy.axis(\"off\")\n",
    "\n",
    "\n",
    "hx, bx, p = ax_histx.hist(\n",
    "    np.concatenate([\n",
    "        data['wb_freq_dn'],\n",
    "        data['wb_freq_up']\n",
    "    ]),\n",
    "    bins=np.logspace(\n",
    "        np.log10(min(data['wb_freq_dn'])),\n",
    "        np.log10(max(data['wb_freq_up']))\n",
    "    ),\n",
    "    facecolor=\"grey\",\n",
    "    alpha=0.5,\n",
    ")\n",
    "\n",
    "hx_filt, bx_filt, p = ax_histx.hist(\n",
    "    np.concatenate([\n",
    "        filtered_data['wb_freq_dn'],\n",
    "        filtered_data['wb_freq_up']\n",
    "    ]),\n",
    "    bins=bx,\n",
    "    facecolor=\"k\",\n",
    "    alpha=0.5,\n",
    ")\n",
    "\n",
    "hy, by, p = ax_histy.hist(\n",
    "    data['snr'],\n",
    "    bins=50,\n",
    "    orientation='horizontal',\n",
    "    facecolor=\"grey\",\n",
    "    alpha=0.5,\n",
    ")\n",
    "\n",
    "ax_histy.hist(\n",
    "    filtered_data['snr'],\n",
    "    bins=by,\n",
    "    orientation='horizontal',\n",
    "    facecolor=\"k\",\n",
    "    alpha=0.5,\n",
    ")\n",
    "\n",
    "# SNR threshold line should be continued into the marginal\n",
    "ax_histy.axhline(snr_thresh, c=\"r\", zorder=1, label=\"SNR Threshold\")\n",
    "\n",
    "# Plotting blur length vs. pixel-period * ∆t for filtered data only\n",
    "ax_regression = fig.add_axes(\n",
    "    rect_regression,\n",
    "    ylabel=\"$L$ (pixels)\",\n",
    "    xlabel=\"$P∆t$ (pixels · s)\",\n",
    ")\n",
    "\n",
    "p = ax_regression.plot(\n",
    "    np.stack((\n",
    "        filtered_data[\"best_peak\"] * filtered_data[\"et_up\"],\n",
    "        filtered_data[\"best_peak\"] * filtered_data[\"et_dn\"],\n",
    "    )),\n",
    "    np.broadcast_to(\n",
    "        filtered_data[\"blur_length\"],\n",
    "        (2,) + filtered_data.shape,\n",
    "    ),\n",
    "    c=\"k\",\n",
    "    alpha=0.5,\n",
    "    lw=1,\n",
    ")"
   ]
  },
  {
   "cell_type": "markdown",
   "metadata": {},
   "source": [
    "Based on the above plots, we now wish to select a number of target classes. This will be used for fitting a Gaussian mixture-model to the preliminary winbeat frequencies (which assume zero bodylength), and for classification in the linear regression step for the unbiased estimate of wingbeat frequency."
   ]
  },
  {
   "cell_type": "code",
   "execution_count": 5,
   "metadata": {},
   "outputs": [],
   "source": [
    "n_classes = 2"
   ]
  },
  {
   "cell_type": "markdown",
   "metadata": {},
   "source": [
    "Fitting the Gaussian mixture-model to the preliminary wingbeat data:"
   ]
  },
  {
   "cell_type": "code",
   "execution_count": 6,
   "metadata": {},
   "outputs": [
    {
     "name": "stdout",
     "output_type": "stream",
     "text": [
      "converged: True\n"
     ]
    }
   ],
   "source": [
    "gmm = GaussianMixture(n_components=n_classes, random_state=20200721)\n",
    "labels = gmm.fit_predict(\n",
    "    np.log10(np.concatenate([\n",
    "        filtered_data['wb_freq_dn'],\n",
    "        filtered_data['wb_freq_up']\n",
    "    ])).reshape(-1, 1))\n",
    "\n",
    "print(\"converged:\", gmm.converged_)\n",
    "\n",
    "labels = labels[:filtered_data.shape[0]] + labels[filtered_data.shape[0]:]"
   ]
  },
  {
   "cell_type": "markdown",
   "metadata": {},
   "source": [
    "Now we use an EM algorithm to classify the data using BCES regressions of $L$ vs. $P \\Delta t$. Here we will plot the result of the regression under the initial randomisation as well as after the final EM iteration"
   ]
  },
  {
   "cell_type": "code",
   "execution_count": 57,
   "metadata": {
    "scrolled": false
   },
   "outputs": [
    {
     "name": "stdout",
     "output_type": "stream",
     "text": [
      "\n",
      "--- Iteration 0, Regression 0\n",
      "prob_class:, 0.467687074829932\n",
      "Wingbeat frequency: 37.063683080358814 +/- 3.5250747416266788 Hz\n",
      "Body length: 127.85101522566015 +/- 47.81817737917329 px\n",
      "Covariance: -165.34240492286315\n",
      "\n",
      "--- Iteration 0, Regression 1\n",
      "prob_class:, 0.532312925170068\n",
      "Wingbeat frequency: 39.80546342745053 +/- 2.755691942102085 Hz\n",
      "Body length: 91.65510681931562 +/- 37.57809201311573 px\n",
      "Covariance: -100.27083282528011\n",
      "stopped after iteration 11\n",
      "\n",
      "--- Iteration 11, Regression 0\n",
      "prob_class:, 0.1326530612244898\n",
      "n_class_members:, 78\n",
      "Wingbeat frequency: 23.466053959690015 +/- 1.556810066609258 Hz\n",
      "Body length: 18.48362816432251 +/- 26.19545270649577 px\n",
      "Covariance: -39.134953347059586\n",
      "\n",
      "--- Iteration 11, Regression 1\n",
      "prob_class:, 0.8673469387755102\n",
      "n_class_members:, 510\n",
      "Wingbeat frequency: 47.216324294653226 +/- 1.3084396195710057 Hz\n",
      "Body length: 36.269535893196235 +/- 17.388466508134254 px\n",
      "Covariance: -21.960631386433548\n"
     ]
    },
    {
     "data": {
      "image/png": "[encoded data removed]",
      "text/plain": [
       "<Figure size 432x288 with 1 Axes>"
      ]
     },
     "metadata": {
      "needs_background": "light"
     },
     "output_type": "display_data"
    },
    {
     "data": {
      "image/png": "[encoded data removed]",
      "text/plain": [
       "<Figure size 432x288 with 1 Axes>"
      ]
     },
     "metadata": {
      "needs_background": "light"
     },
     "output_type": "display_data"
    }
   ],
   "source": [
    "rng = default_rng(20201008)\n",
    "\n",
    "# E-step\n",
    "class_mask = rng.integers(0, n_classes, len(filtered_data), \"u1\")\n",
    "prob_class = np.array([np.mean(class_mask == i) for i in range(n_classes)])\n",
    "n_class_members = np.array([np.count_nonzero(class_mask == i) for i in range(n_classes)])\n",
    "tiled_class_mask = np.tile(class_mask, 2)\n",
    "\n",
    "def bces_em(data, class_mask, prob_class, n_classes):\n",
    "    xerr = data[\"best_peak\"] * (data[\"et_dn\"] - data[\"et_up\"]) / 2\n",
    "    yerr = np.zeros_like(xerr)\n",
    "    x = data[\"best_peak\"] * data[\"et_up\"] + xerr\n",
    "    y = data[\"blur_length\"]\n",
    "    cov = np.zeros_like(x)\n",
    "    \n",
    "    estimates = []\n",
    "    err = np.zeros((n_classes, len(data)))\n",
    "    for class_id in range(n_classes):\n",
    "        mask = class_mask == class_id\n",
    "        wf_estimate, bl_estimate, wf_err, bl_err, cov_wf_bl = (\n",
    "            e[0] for e in bces.bces(x[mask], xerr[mask], y[mask], yerr[mask], cov[mask])\n",
    "        )\n",
    "        estimates.append((wf_estimate, bl_estimate, wf_err, bl_err, cov_wf_bl))\n",
    "        \n",
    "        err[class_id, :] = (bl_estimate + wf_estimate * x - y) ** 2 / prob_class[class_id]\n",
    "        \n",
    "    return estimates, err\n",
    "\n",
    "\n",
    "def plot_multiple_regression(data, class_mask, estimates):\n",
    "    cmap = np.array([\"b\", \"g\", \"r\", \"k\"])\n",
    "    fig = plt.figure()\n",
    "    ax = fig.add_subplot(\n",
    "        111,\n",
    "        title=\"Blur length vs. (pixel-wingbeat period * exposure time)\",\n",
    "        ylabel=\"Blur length (px)\",\n",
    "        xlabel=\"Pixel-wingbeat period * Exposure time (px * s)\",\n",
    "    )\n",
    "\n",
    "    for i in range(len(estimates)):\n",
    "        # Plot data\n",
    "        ax.plot(\n",
    "            np.stack((\n",
    "                (data[\"best_peak\"] * data[\"et_up\"])[class_mask == i],\n",
    "                (data[\"best_peak\"] * data[\"et_dn\"])[class_mask == i],\n",
    "            )),\n",
    "            np.broadcast_to(\n",
    "                data[\"blur_length\"][class_mask == i],\n",
    "                (2,) + data[class_mask == i].shape,\n",
    "            ),\n",
    "            c=cmap[i],\n",
    "            alpha=0.5,\n",
    "            lw=1,\n",
    "        )\n",
    "           \n",
    "        # Plot regression line\n",
    "        wf_estimate, bl_estimate, wf_err, bl_err, cov_wf_bl = estimates[i]\n",
    "        ax.plot(\n",
    "            [0, max(data[\"best_peak\"] * data[\"et_dn\"])],\n",
    "            [bl_estimate, wf_estimate * max(data[\"best_peak\"] * data[\"et_dn\"]) + bl_estimate],\n",
    "            c=cmap[i]\n",
    "        )\n",
    "\n",
    "\n",
    "for i in range(50):\n",
    "    estimates, err = bces_em(filtered_data, class_mask, prob_class, n_classes)\n",
    "    if i == 0:\n",
    "        plot_multiple_regression(filtered_data, class_mask, estimates)\n",
    "    class_mask_temp = np.argmin(err, axis=0)\n",
    "    if (class_mask == class_mask_temp).all():\n",
    "        print(f\"stopped after iteration {i}\")\n",
    "        break\n",
    "    \n",
    "    if i == 0:\n",
    "        j = 0\n",
    "        for wf_estimate, bl_estimate, wf_err, bl_err, cov_wf_bl in estimates:\n",
    "            print(f\"\\n--- Iteration {i}, Regression {j}\")\n",
    "            print(f\"prob_class:, {prob_class[j]}\")\n",
    "            print(f\"Wingbeat frequency: {wf_estimate} +/- {wf_err} Hz\")\n",
    "            print(f\"Body length: {bl_estimate} +/- {bl_err} px\")\n",
    "            print(f\"Covariance: {cov_wf_bl}\")\n",
    "            j += 1\n",
    "    \n",
    "    class_mask[:] = class_mask_temp\n",
    "    prob_class = np.array([np.mean(class_mask == i) for i in range(n_classes)])\n",
    "    n_class_members = np.array([np.count_nonzero(class_mask == i) for i in range(n_classes)])\n",
    "        \n",
    "plot_multiple_regression(filtered_data, class_mask, estimates)\n",
    "j = 0\n",
    "for wf_estimate, bl_estimate, wf_err, bl_err, cov_wf_bl in estimates:\n",
    "    print(f\"\\n--- Iteration {i}, Regression {j}\")\n",
    "    print(f\"prob_class:, {prob_class[j]}\")\n",
    "    print(f\"n_class_members:, {n_class_members[j]}\")\n",
    "    print(f\"Wingbeat frequency: {wf_estimate} +/- {wf_err} Hz\")\n",
    "    print(f\"Body length: {bl_estimate} +/- {bl_err} px\")\n",
    "    print(f\"Covariance: {cov_wf_bl}\")\n",
    "    j += 1"
   ]
  },
  {
   "cell_type": "markdown",
   "metadata": {},
   "source": [
    "Finally, we reproduce the figure from the publication, which includes the GMM and EM classification"
   ]
  },
  {
   "cell_type": "code",
   "execution_count": 88,
   "metadata": {},
   "outputs": [
    {
     "data": {
      "image/png": "[encoded data removed]",
      "text/plain": [
       "<Figure size 540x374.4 with 4 Axes>"
      ]
     },
     "metadata": {
      "needs_background": "light"
     },
     "output_type": "display_data"
    }
   ],
   "source": [
    "filtered_data = data[data['snr'] >= snr_thresh]\n",
    "\n",
    "a_alpha = 1.\n",
    "b_alpha = 0.5\n",
    "\n",
    "# Setting up the figure with multiple subfigures\n",
    "left, width = 0.1, 0.4\n",
    "bottom, height = 0.1, 0.4\n",
    "hist_height = 0.2\n",
    "spacing = 0\n",
    "spacing_regression = -0.12\n",
    "\n",
    "rect_scatter = [left, bottom, width, height]\n",
    "rect_histx = [left, bottom + height + spacing, width, hist_height]\n",
    "rect_histy = [left + width + spacing, bottom, hist_height, height]\n",
    "rect_regression = [\n",
    "    left + width + spacing_regression,\n",
    "    bottom + height + spacing_regression,\n",
    "    1. - left - width - spacing_regression,\n",
    "    1. - bottom - height - spacing_regression,\n",
    "]\n",
    "\n",
    "fig = plt.figure(\n",
    "    figsize=(7.5, 5.2),\n",
    "    #dpi=1000.0,\n",
    ")\n",
    "\n",
    "# Plotting preliminary wingbeat frequency data with marginal distributions\n",
    "ax = fig.add_axes(\n",
    "    rect_scatter,\n",
    "    xlabel=\"Preliminary wingbeat frequency (s⁻¹)\",\n",
    "    ylabel=\"SNR\",\n",
    "    xscale=\"log\",\n",
    "    xlim=(10, 1000),\n",
    ")\n",
    "\n",
    "# Plot above-threshold data\n",
    "ax.plot(\n",
    "    np.stack((\n",
    "        data['wb_freq_dn'][data['snr'] >= snr_thresh],\n",
    "        data['wb_freq_up'][data['snr'] >= snr_thresh],\n",
    "    )),\n",
    "    np.broadcast_to(\n",
    "        data['snr'][data['snr'] >= snr_thresh],\n",
    "        (2,) + data[data['snr'] >= snr_thresh].shape,\n",
    "    ),\n",
    "    c=\"k\",\n",
    "    alpha=a_alpha,\n",
    "    lw=1,\n",
    ")\n",
    "# Plot below-threshold data\n",
    "ax.plot(\n",
    "    np.stack((\n",
    "        data['wb_freq_dn'][data['snr'] < snr_thresh],\n",
    "        data['wb_freq_up'][data['snr'] < snr_thresh],\n",
    "    )),\n",
    "    np.broadcast_to(\n",
    "        data['snr'][data['snr'] < snr_thresh],\n",
    "        (2,) + data[data['snr'] < snr_thresh].shape,\n",
    "    ),\n",
    "    c=\"grey\",\n",
    "    alpha=a_alpha,\n",
    "    lw=1,\n",
    ")\n",
    "    \n",
    "ax.axhline(snr_thresh, c=\"r\", zorder=10, label=\"SNR Threshold\")\n",
    "\n",
    "# Plotting marginals\n",
    "ax_histx = fig.add_axes(rect_histx, sharex=ax)\n",
    "ax_histy = fig.add_axes(rect_histy, sharey=ax)\n",
    "\n",
    "# no labels\n",
    "ax_histx.axis(\"off\")\n",
    "ax_histy.axis(\"off\")\n",
    "\n",
    "\n",
    "hx, bx, p = ax_histx.hist(\n",
    "    np.concatenate([\n",
    "        data['wb_freq_dn'],\n",
    "        data['wb_freq_up']\n",
    "    ]),\n",
    "    bins=np.logspace(\n",
    "        np.log10(min(data['wb_freq_dn'])),\n",
    "        np.log10(max(data['wb_freq_up']))\n",
    "    ),\n",
    "    facecolor=\"grey\",\n",
    "    alpha=a_alpha,\n",
    ")\n",
    "\n",
    "hx_filt, bx_filt, p = ax_histx.hist(\n",
    "    np.concatenate([\n",
    "        filtered_data['wb_freq_dn'],\n",
    "        filtered_data['wb_freq_up']\n",
    "    ]),\n",
    "    bins=bx,\n",
    "    facecolor=\"k\",\n",
    "    alpha=a_alpha,\n",
    ")\n",
    "\n",
    "# Plotting GMM\n",
    "scaling = np.mean(hx_filt * (bx_filt[1:] - bx_filt[:-1])) / 2\n",
    "\n",
    "pdf_x0 = np.logspace(\n",
    "    gmm.means_[0][0] - math.sqrt(gmm.covariances_[0][0]) * 4,\n",
    "    gmm.means_[0][0] + math.sqrt(gmm.covariances_[0][0]) * 4,\n",
    "    num=100,\n",
    ")\n",
    "\n",
    "ax_histx.plot(\n",
    "    pdf_x0,\n",
    "    scaling * gmm.weights_[0] * norm.pdf(np.log10(pdf_x0), loc=gmm.means_[0][0], scale=math.sqrt(gmm.covariances_[0][0])),\n",
    "    c='g',\n",
    "    label=\"0\",\n",
    ")\n",
    "\n",
    "pdf_x1 = np.logspace(\n",
    "    gmm.means_[1][0] - math.sqrt(gmm.covariances_[1][0]) * 4,\n",
    "    gmm.means_[1][0] + math.sqrt(gmm.covariances_[1][0]) * 4,\n",
    "    num=100,\n",
    ")\n",
    "\n",
    "ax_histx.plot(\n",
    "    pdf_x1,\n",
    "    scaling * gmm.weights_[1] * norm.pdf(np.log10(pdf_x1), loc=gmm.means_[1][0], scale=math.sqrt(gmm.covariances_[1][0])),\n",
    "    c='b',\n",
    "    label=\"2\",\n",
    ")\n",
    "\n",
    "# Plotting vertical marginal\n",
    "# First need to pin bin edges to snr_thresh to avoid overlap\n",
    "min_snr = data['snr'].min()\n",
    "max_snr = data['snr'].max()\n",
    "nbins = 50\n",
    "by = np.linspace(\n",
    "    min_snr - (max_snr - min_snr) / nbins,\n",
    "    max_snr,\n",
    "    num=nbins + 1,\n",
    ")\n",
    "by += snr_thresh - by[by <= snr_thresh][-1]\n",
    "\n",
    "hy, by, p = ax_histy.hist(\n",
    "    data['snr'],\n",
    "    bins=by,\n",
    "    orientation='horizontal',\n",
    "    facecolor=\"grey\",\n",
    "    alpha=a_alpha,\n",
    ")\n",
    "\n",
    "ax_histy.hist(\n",
    "    filtered_data['snr'],\n",
    "    bins=by,\n",
    "    orientation='horizontal',\n",
    "    facecolor=\"k\",\n",
    "    alpha=a_alpha,\n",
    ")\n",
    "\n",
    "# SNR threshold line should be continued into the marginal\n",
    "ax_histy.axhline(snr_thresh, c=\"r\", zorder=1, label=\"SNR Threshold\")\n",
    "\n",
    "# Plotting blur length vs. pixel-period * ∆t for filtered data only\n",
    "ax_regression = fig.add_axes(\n",
    "    rect_regression,\n",
    "    ylabel=\"$L$ (pixels)\",\n",
    "    xlabel=\"$P∆t$ (pixels · s)\",\n",
    ")\n",
    "\n",
    "# Define colours for each class\n",
    "cmap = np.array([\"b\", \"g\", \"r\", \"k\"])\n",
    "assert len(cmap) >= n_classes, \"Need to define more colours\"\n",
    "\n",
    "for i in range(len(estimates)):\n",
    "    # Plot the data\n",
    "    ax_regression.plot(\n",
    "        np.stack((\n",
    "            (filtered_data[\"best_peak\"] * filtered_data[\"et_up\"])[class_mask == i],\n",
    "            (filtered_data[\"best_peak\"] * filtered_data[\"et_dn\"])[class_mask == i],\n",
    "        )),\n",
    "        np.broadcast_to(\n",
    "            filtered_data[\"blur_length\"][class_mask == i],\n",
    "            (2,) + filtered_data[class_mask == i].shape,\n",
    "        ),\n",
    "        c=cmap[i],\n",
    "        alpha=b_alpha,\n",
    "        lw=1,\n",
    "    )\n",
    "    \n",
    "    # Plot the regression lines\n",
    "    wf_estimate, bl_estimate, wf_err, bl_err, cov_wf_bl = estimates[i]\n",
    "    ax_regression.plot(\n",
    "        [0, max(data[\"best_peak\"] * data[\"et_dn\"])],\n",
    "        [bl_estimate, wf_estimate * max(data[\"best_peak\"] * data[\"et_dn\"]) + bl_estimate],\n",
    "        c=cmap[i]\n",
    "    )\n",
    "    \n",
    "# Add titles\n",
    "title_y = 0.88\n",
    "a_title = ax.set_title(\n",
    "    \" a.\",\n",
    "    fontdict={\"fontweight\": \"bold\"},\n",
    "    loc=\"left\",\n",
    "    y=title_y\n",
    ")\n",
    "b_title = ax_regression.set_title(\n",
    "    \" b.\",\n",
    "    fontdict={\"fontweight\": \"bold\"},\n",
    "    loc=\"left\",\n",
    "    y=title_y\n",
    ")"
   ]
  },
  {
   "cell_type": "code",
   "execution_count": 89,
   "metadata": {},
   "outputs": [],
   "source": [
    "fig.savefig(\"wingbeat_frequency_figure.pdf\", dpi=1000.0, pad_inches=0.0)"
   ]
  },
  {
   "cell_type": "code",
   "execution_count": 77,
   "metadata": {},
   "outputs": [
    {
     "data": {
      "text/plain": [
       "4.0"
      ]
     },
     "execution_count": 77,
     "metadata": {},
     "output_type": "execute_result"
    }
   ],
   "source": [
    "by[by <= snr_thresh][-1]"
   ]
  },
  {
   "cell_type": "code",
   "execution_count": 78,
   "metadata": {},
   "outputs": [],
   "source": [
    "by += snr_thresh - by[by <= snr_thresh][-1]"
   ]
  },
  {
   "cell_type": "code",
   "execution_count": 79,
   "metadata": {},
   "outputs": [
    {
     "data": {
      "text/plain": [
       "array([-4.06397365, -3.39197584, -2.71997804, -2.04798024, -1.37598243,\n",
       "       -0.70398463, -0.03198682,  0.64001098,  1.31200878,  1.98400659,\n",
       "        2.65600439,  3.3280022 ,  4.        ,  4.6719978 ,  5.34399561,\n",
       "        6.01599341,  6.68799122,  7.35998902,  8.03198682,  8.70398463,\n",
       "        9.37598243, 10.04798024, 10.71997804, 11.39197584, 12.06397365,\n",
       "       12.73597145, 13.40796926, 14.07996706, 14.75196486, 15.42396267,\n",
       "       16.09596047, 16.76795828, 17.43995608, 18.11195388, 18.78395169,\n",
       "       19.45594949, 20.1279473 , 20.7999451 , 21.4719429 , 22.14394071,\n",
       "       22.81593851, 23.48793632, 24.15993412, 24.83193193, 25.50392973,\n",
       "       26.17592753, 26.84792534, 27.51992314, 28.19192095, 28.86391875,\n",
       "       29.53591655])"
      ]
     },
     "execution_count": 79,
     "metadata": {},
     "output_type": "execute_result"
    }
   ],
   "source": [
    "by"
   ]
  },
  {
   "cell_type": "code",
   "execution_count": 80,
   "metadata": {},
   "outputs": [
    {
     "data": {
      "text/plain": [
       "(-4.038432742395714, 28.902636082936517)"
      ]
     },
     "execution_count": 80,
     "metadata": {},
     "output_type": "execute_result"
    }
   ],
   "source": [
    "min_snr, max_snr"
   ]
  },
  {
   "cell_type": "code",
   "execution_count": null,
   "metadata": {},
   "outputs": [],
   "source": []
  }
 ],
 "metadata": {
  "kernelspec": {
   "display_name": "Python 3",
   "language": "python",
   "name": "python3"
  },
  "language_info": {
   "codemirror_mode": {
    "name": "ipython",
    "version": 3
   },
   "file_extension": ".py",
   "mimetype": "text/x-python",
   "name": "python",
   "nbconvert_exporter": "python",
   "pygments_lexer": "ipython3",
   "version": "3.7.6"
  }
 },
 "nbformat": 4,
 "nbformat_minor": 2
}
