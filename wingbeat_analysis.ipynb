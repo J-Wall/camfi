{
 "cells": [
  {
   "cell_type": "markdown",
   "metadata": {},
   "source": [
    "# Wingbeat analysis\n",
    "This notebook demonstrates how to analyse wingbeat data output from camfi.\n",
    "\n",
    "First, load the required libraries."
   ]
  },
  {
   "cell_type": "code",
   "execution_count": null,
   "metadata": {},
   "outputs": [],
   "source": [
    "from bces import bces\n",
    "import numpy as np"
   ]
  },
  {
   "cell_type": "markdown",
   "metadata": {},
   "source": [
    "\n",
    "\n",
    "Next, load the wingbeat frequency data. It is in a tab-separated format with the following columns:\n",
    "\n",
    "1. `image_name` : relative path to image\n",
    "2. `capture_time` : datetime in yyyy-mm-dd HH:MM:SS format\n",
    "3. `annotation_idx` : index of annotation in image (arbitrary)\n",
    "4. `best_peak` : period of wingbeat in pixels\n",
    "5. `blur_length` : length of motion blur in pixels\n",
    "6. `snr` : signal to noise ratio of best peak\n",
    "7. `wb_freq_up` : wingbeat frequency estimate, assuming upward motion (and zero body-length)\n",
    "8. `wb_freq_down` : wingbeat frequency estimate, assuming downward motion (and zero body-length)\n",
    "9. `et_up` : corrected moth exposure time, assuming upward motion\n",
    "10. `et_dn` : corrected moth exposure time, assuming downward motion\n",
    "11. `period_up` : wingbeat period, assuming upward motion (and zero body-length)\n",
    "12. `period_dn` : wingbeat period, assuming downward motion (and zero body-length)\n",
    "13. `spec_dens` : comma separated values, with the spectral density array associated with the annotation\n",
    "\n",
    "For the purposes of this notebook, we are particularly interested in wingbeat frequency, so we will only load the relevant columns."
   ]
  },
  {
   "cell_type": "code",
   "execution_count": null,
   "metadata": {},
   "outputs": [],
   "source": [
    "data_path = \"cabramurra_wingbeats.csv.bz2\"\n",
    "\n",
    "data = np.loadtxt(\n",
    "    data_path,\n",
    "    dtype=[\n",
    "        ('image_name', 'U40'),\n",
    "        ('capture_time', 'datetime64[s]'),\n",
    "        ('annotation_idx', 'u1'),\n",
    "        ('best_peak', 'u2'),\n",
    "        ('blur_length', 'u2'),\n",
    "        ('snr', 'f8'),\n",
    "        ('wb_freq_up', 'f8'),\n",
    "        ('wb_freq_dn', 'f8'),\n",
    "        ('et_up', 'f8'),\n",
    "        ('et_dn', 'f8')\n",
    "    ],\n",
    "    usecols=(0, 1, 2, 3, 4, 5, 6, 7, 8, 9),\n",
    "    delimiter='\\t',\n",
    "    skiprows=1,\n",
    ")"
   ]
  }
 ],
 "metadata": {
  "kernelspec": {
   "display_name": "Python 3",
   "language": "python",
   "name": "python3"
  },
  "language_info": {
   "codemirror_mode": {
    "name": "ipython",
    "version": 3
   },
   "file_extension": ".py",
   "mimetype": "text/x-python",
   "name": "python",
   "nbconvert_exporter": "python",
   "pygments_lexer": "ipython3",
   "version": "3.7.6"
  }
 },
 "nbformat": 4,
 "nbformat_minor": 2
}
